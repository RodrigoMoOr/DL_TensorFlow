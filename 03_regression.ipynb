{
 "cells": [
  {
   "cell_type": "code",
   "execution_count": 1,
   "metadata": {
    "collapsed": true,
    "pycharm": {
     "name": "#%%\n"
    }
   },
   "outputs": [],
   "source": [
    "import os\n",
    "import matplotlib.pyplot as plt\n",
    "import numpy as np\n",
    "import pandas as pd\n",
    "import tensorflow as tf\n",
    "from tensorflow import keras\n",
    "from tensorflow.keras import layers\n",
    "from tensorflow.keras.layers.experimental import preprocessing\n",
    "\n",
    "os.environ['TF_CPP_MIN_LOG_LEVEL'] = '2'\n",
    "np.set_printoptions(precision=3, suppress=True)"
   ]
  },
  {
   "cell_type": "code",
   "execution_count": 2,
   "metadata": {
    "collapsed": false,
    "pycharm": {
     "name": "#%%\n"
    }
   },
   "outputs": [],
   "source": [
    "url = 'http://archive.ics.uci.edu/ml/machine-learning-databases/auto-mpg/auto-mpg.data'\n",
    "column_names = ['MPG', 'Cylinders', 'Displacement', 'Horsepower', 'Weight',\n",
    "                'Acceleration', 'Model Year', 'Origin']\n",
    "\n",
    "dataset = pd.read_csv(url, names=column_names, na_values='?',\n",
    "                      comment='\\t', sep=' ', skipinitialspace=True)"
   ]
  },
  {
   "cell_type": "code",
   "execution_count": 3,
   "outputs": [
    {
     "data": {
      "text/plain": "      MPG  Cylinders  Displacement  Horsepower  Weight  Acceleration  \\\n393  27.0          4         140.0        86.0  2790.0          15.6   \n394  44.0          4          97.0        52.0  2130.0          24.6   \n395  32.0          4         135.0        84.0  2295.0          11.6   \n396  28.0          4         120.0        79.0  2625.0          18.6   \n397  31.0          4         119.0        82.0  2720.0          19.4   \n\n     Model Year  Origin  \n393          82       1  \n394          82       2  \n395          82       1  \n396          82       1  \n397          82       1  ",
      "text/html": "<div>\n<style scoped>\n    .dataframe tbody tr th:only-of-type {\n        vertical-align: middle;\n    }\n\n    .dataframe tbody tr th {\n        vertical-align: top;\n    }\n\n    .dataframe thead th {\n        text-align: right;\n    }\n</style>\n<table border=\"1\" class=\"dataframe\">\n  <thead>\n    <tr style=\"text-align: right;\">\n      <th></th>\n      <th>MPG</th>\n      <th>Cylinders</th>\n      <th>Displacement</th>\n      <th>Horsepower</th>\n      <th>Weight</th>\n      <th>Acceleration</th>\n      <th>Model Year</th>\n      <th>Origin</th>\n    </tr>\n  </thead>\n  <tbody>\n    <tr>\n      <th>393</th>\n      <td>27.0</td>\n      <td>4</td>\n      <td>140.0</td>\n      <td>86.0</td>\n      <td>2790.0</td>\n      <td>15.6</td>\n      <td>82</td>\n      <td>1</td>\n    </tr>\n    <tr>\n      <th>394</th>\n      <td>44.0</td>\n      <td>4</td>\n      <td>97.0</td>\n      <td>52.0</td>\n      <td>2130.0</td>\n      <td>24.6</td>\n      <td>82</td>\n      <td>2</td>\n    </tr>\n    <tr>\n      <th>395</th>\n      <td>32.0</td>\n      <td>4</td>\n      <td>135.0</td>\n      <td>84.0</td>\n      <td>2295.0</td>\n      <td>11.6</td>\n      <td>82</td>\n      <td>1</td>\n    </tr>\n    <tr>\n      <th>396</th>\n      <td>28.0</td>\n      <td>4</td>\n      <td>120.0</td>\n      <td>79.0</td>\n      <td>2625.0</td>\n      <td>18.6</td>\n      <td>82</td>\n      <td>1</td>\n    </tr>\n    <tr>\n      <th>397</th>\n      <td>31.0</td>\n      <td>4</td>\n      <td>119.0</td>\n      <td>82.0</td>\n      <td>2720.0</td>\n      <td>19.4</td>\n      <td>82</td>\n      <td>1</td>\n    </tr>\n  </tbody>\n</table>\n</div>"
     },
     "execution_count": 3,
     "metadata": {},
     "output_type": "execute_result"
    }
   ],
   "source": [
    "dataset.tail()"
   ],
   "metadata": {
    "collapsed": false,
    "pycharm": {
     "name": "#%%\n"
    }
   }
  },
  {
   "cell_type": "code",
   "execution_count": 4,
   "outputs": [],
   "source": [
    "dataset = dataset.dropna()"
   ],
   "metadata": {
    "collapsed": false,
    "pycharm": {
     "name": "#%%\n"
    }
   }
  },
  {
   "cell_type": "code",
   "execution_count": 5,
   "outputs": [
    {
     "data": {
      "text/plain": "      MPG  Cylinders  Displacement  Horsepower  Weight  Acceleration  \\\n393  27.0          4         140.0        86.0  2790.0          15.6   \n394  44.0          4          97.0        52.0  2130.0          24.6   \n395  32.0          4         135.0        84.0  2295.0          11.6   \n396  28.0          4         120.0        79.0  2625.0          18.6   \n397  31.0          4         119.0        82.0  2720.0          19.4   \n\n     Model Year  USA  Europe  Japan  \n393          82    1       0      0  \n394          82    0       1      0  \n395          82    1       0      0  \n396          82    1       0      0  \n397          82    1       0      0  ",
      "text/html": "<div>\n<style scoped>\n    .dataframe tbody tr th:only-of-type {\n        vertical-align: middle;\n    }\n\n    .dataframe tbody tr th {\n        vertical-align: top;\n    }\n\n    .dataframe thead th {\n        text-align: right;\n    }\n</style>\n<table border=\"1\" class=\"dataframe\">\n  <thead>\n    <tr style=\"text-align: right;\">\n      <th></th>\n      <th>MPG</th>\n      <th>Cylinders</th>\n      <th>Displacement</th>\n      <th>Horsepower</th>\n      <th>Weight</th>\n      <th>Acceleration</th>\n      <th>Model Year</th>\n      <th>USA</th>\n      <th>Europe</th>\n      <th>Japan</th>\n    </tr>\n  </thead>\n  <tbody>\n    <tr>\n      <th>393</th>\n      <td>27.0</td>\n      <td>4</td>\n      <td>140.0</td>\n      <td>86.0</td>\n      <td>2790.0</td>\n      <td>15.6</td>\n      <td>82</td>\n      <td>1</td>\n      <td>0</td>\n      <td>0</td>\n    </tr>\n    <tr>\n      <th>394</th>\n      <td>44.0</td>\n      <td>4</td>\n      <td>97.0</td>\n      <td>52.0</td>\n      <td>2130.0</td>\n      <td>24.6</td>\n      <td>82</td>\n      <td>0</td>\n      <td>1</td>\n      <td>0</td>\n    </tr>\n    <tr>\n      <th>395</th>\n      <td>32.0</td>\n      <td>4</td>\n      <td>135.0</td>\n      <td>84.0</td>\n      <td>2295.0</td>\n      <td>11.6</td>\n      <td>82</td>\n      <td>1</td>\n      <td>0</td>\n      <td>0</td>\n    </tr>\n    <tr>\n      <th>396</th>\n      <td>28.0</td>\n      <td>4</td>\n      <td>120.0</td>\n      <td>79.0</td>\n      <td>2625.0</td>\n      <td>18.6</td>\n      <td>82</td>\n      <td>1</td>\n      <td>0</td>\n      <td>0</td>\n    </tr>\n    <tr>\n      <th>397</th>\n      <td>31.0</td>\n      <td>4</td>\n      <td>119.0</td>\n      <td>82.0</td>\n      <td>2720.0</td>\n      <td>19.4</td>\n      <td>82</td>\n      <td>1</td>\n      <td>0</td>\n      <td>0</td>\n    </tr>\n  </tbody>\n</table>\n</div>"
     },
     "execution_count": 5,
     "metadata": {},
     "output_type": "execute_result"
    }
   ],
   "source": [
    "origin = dataset.pop('Origin')\n",
    "dataset['USA'] = (origin == 1)*1\n",
    "dataset['Europe'] = (origin==2)*1\n",
    "dataset['Japan'] = (origin == 3)*1\n",
    "dataset.tail()"
   ],
   "metadata": {
    "collapsed": false,
    "pycharm": {
     "name": "#%%\n"
    }
   }
  },
  {
   "cell_type": "code",
   "execution_count": 6,
   "outputs": [
    {
     "name": "stdout",
     "output_type": "stream",
     "text": [
      "(392, 10) (314, 10) (78, 10)\n"
     ]
    }
   ],
   "source": [
    "train_dataset = dataset.sample(frac=0.8, random_state=0)\n",
    "test_dataset = dataset.drop(train_dataset.index)\n",
    "\n",
    "print(dataset.shape, train_dataset.shape, test_dataset.shape)"
   ],
   "metadata": {
    "collapsed": false,
    "pycharm": {
     "name": "#%%\n"
    }
   }
  },
  {
   "cell_type": "code",
   "execution_count": 7,
   "outputs": [
    {
     "data": {
      "text/plain": "              count         mean         std     min      25%     50%  \\\nMPG           314.0    23.310510    7.728652    10.0    17.00    22.0   \nCylinders     314.0     5.477707    1.699788     3.0     4.00     4.0   \nDisplacement  314.0   195.318471  104.331589    68.0   105.50   151.0   \nHorsepower    314.0   104.869427   38.096214    46.0    76.25    94.5   \nWeight        314.0  2990.251592  843.898596  1649.0  2256.50  2822.5   \nAcceleration  314.0    15.559236    2.789230     8.0    13.80    15.5   \nModel Year    314.0    75.898089    3.675642    70.0    73.00    76.0   \nUSA           314.0     0.624204    0.485101     0.0     0.00     1.0   \nEurope        314.0     0.178344    0.383413     0.0     0.00     0.0   \nJapan         314.0     0.197452    0.398712     0.0     0.00     0.0   \n\n                  75%     max  \nMPG             28.95    46.6  \nCylinders        8.00     8.0  \nDisplacement   265.75   455.0  \nHorsepower     128.00   225.0  \nWeight        3608.00  5140.0  \nAcceleration    17.20    24.8  \nModel Year      79.00    82.0  \nUSA              1.00     1.0  \nEurope           0.00     1.0  \nJapan            0.00     1.0  ",
      "text/html": "<div>\n<style scoped>\n    .dataframe tbody tr th:only-of-type {\n        vertical-align: middle;\n    }\n\n    .dataframe tbody tr th {\n        vertical-align: top;\n    }\n\n    .dataframe thead th {\n        text-align: right;\n    }\n</style>\n<table border=\"1\" class=\"dataframe\">\n  <thead>\n    <tr style=\"text-align: right;\">\n      <th></th>\n      <th>count</th>\n      <th>mean</th>\n      <th>std</th>\n      <th>min</th>\n      <th>25%</th>\n      <th>50%</th>\n      <th>75%</th>\n      <th>max</th>\n    </tr>\n  </thead>\n  <tbody>\n    <tr>\n      <th>MPG</th>\n      <td>314.0</td>\n      <td>23.310510</td>\n      <td>7.728652</td>\n      <td>10.0</td>\n      <td>17.00</td>\n      <td>22.0</td>\n      <td>28.95</td>\n      <td>46.6</td>\n    </tr>\n    <tr>\n      <th>Cylinders</th>\n      <td>314.0</td>\n      <td>5.477707</td>\n      <td>1.699788</td>\n      <td>3.0</td>\n      <td>4.00</td>\n      <td>4.0</td>\n      <td>8.00</td>\n      <td>8.0</td>\n    </tr>\n    <tr>\n      <th>Displacement</th>\n      <td>314.0</td>\n      <td>195.318471</td>\n      <td>104.331589</td>\n      <td>68.0</td>\n      <td>105.50</td>\n      <td>151.0</td>\n      <td>265.75</td>\n      <td>455.0</td>\n    </tr>\n    <tr>\n      <th>Horsepower</th>\n      <td>314.0</td>\n      <td>104.869427</td>\n      <td>38.096214</td>\n      <td>46.0</td>\n      <td>76.25</td>\n      <td>94.5</td>\n      <td>128.00</td>\n      <td>225.0</td>\n    </tr>\n    <tr>\n      <th>Weight</th>\n      <td>314.0</td>\n      <td>2990.251592</td>\n      <td>843.898596</td>\n      <td>1649.0</td>\n      <td>2256.50</td>\n      <td>2822.5</td>\n      <td>3608.00</td>\n      <td>5140.0</td>\n    </tr>\n    <tr>\n      <th>Acceleration</th>\n      <td>314.0</td>\n      <td>15.559236</td>\n      <td>2.789230</td>\n      <td>8.0</td>\n      <td>13.80</td>\n      <td>15.5</td>\n      <td>17.20</td>\n      <td>24.8</td>\n    </tr>\n    <tr>\n      <th>Model Year</th>\n      <td>314.0</td>\n      <td>75.898089</td>\n      <td>3.675642</td>\n      <td>70.0</td>\n      <td>73.00</td>\n      <td>76.0</td>\n      <td>79.00</td>\n      <td>82.0</td>\n    </tr>\n    <tr>\n      <th>USA</th>\n      <td>314.0</td>\n      <td>0.624204</td>\n      <td>0.485101</td>\n      <td>0.0</td>\n      <td>0.00</td>\n      <td>1.0</td>\n      <td>1.00</td>\n      <td>1.0</td>\n    </tr>\n    <tr>\n      <th>Europe</th>\n      <td>314.0</td>\n      <td>0.178344</td>\n      <td>0.383413</td>\n      <td>0.0</td>\n      <td>0.00</td>\n      <td>0.0</td>\n      <td>0.00</td>\n      <td>1.0</td>\n    </tr>\n    <tr>\n      <th>Japan</th>\n      <td>314.0</td>\n      <td>0.197452</td>\n      <td>0.398712</td>\n      <td>0.0</td>\n      <td>0.00</td>\n      <td>0.0</td>\n      <td>0.00</td>\n      <td>1.0</td>\n    </tr>\n  </tbody>\n</table>\n</div>"
     },
     "execution_count": 7,
     "metadata": {},
     "output_type": "execute_result"
    }
   ],
   "source": [
    "train_dataset.describe().transpose()"
   ],
   "metadata": {
    "collapsed": false,
    "pycharm": {
     "name": "#%%\n"
    }
   }
  },
  {
   "cell_type": "code",
   "execution_count": 8,
   "outputs": [],
   "source": [
    "train_x = train_dataset.copy()\n",
    "train_y = train_x.pop('MPG')\n",
    "\n",
    "test_x = test_dataset.copy()\n",
    "test_y = test_x.pop('MPG')"
   ],
   "metadata": {
    "collapsed": false,
    "pycharm": {
     "name": "#%%\n"
    }
   }
  },
  {
   "cell_type": "code",
   "execution_count": 9,
   "outputs": [],
   "source": [
    "def plot(feature, x=None, y=None):\n",
    "    plt.figure(figsize=(10, 8))\n",
    "    plt.scatter(train_x[feature], train_y, label='Data')\n",
    "    if x is not None and y is not None:\n",
    "        plt.plot(x, y, color='k', label='Predictions')\n",
    "    plt.xlabel(feature)\n",
    "    plt.ylabel('MPG')\n",
    "    plt.legend()"
   ],
   "metadata": {
    "collapsed": false,
    "pycharm": {
     "name": "#%%\n"
    }
   }
  },
  {
   "cell_type": "code",
   "execution_count": 10,
   "outputs": [
    {
     "data": {
      "text/plain": "<Figure size 720x576 with 1 Axes>",
      "image/png": "[encoded data removed]"
     },
     "metadata": {
      "needs_background": "light"
     },
     "output_type": "display_data"
    }
   ],
   "source": [
    "plot('Horsepower')"
   ],
   "metadata": {
    "collapsed": false,
    "pycharm": {
     "name": "#%%\n"
    }
   }
  },
  {
   "cell_type": "code",
   "execution_count": 11,
   "outputs": [
    {
     "data": {
      "text/plain": "<Figure size 720x576 with 1 Axes>",
      "image/png": "[encoded data removed]"
     },
     "metadata": {
      "needs_background": "light"
     },
     "output_type": "display_data"
    }
   ],
   "source": [
    "plot('Weight')"
   ],
   "metadata": {
    "collapsed": false,
    "pycharm": {
     "name": "#%%\n"
    }
   }
  },
  {
   "cell_type": "code",
   "execution_count": 12,
   "outputs": [
    {
     "data": {
      "text/plain": "<Figure size 720x576 with 1 Axes>",
      "image/png": "[encoded data removed]"
     },
     "metadata": {
      "needs_background": "light"
     },
     "output_type": "display_data"
    }
   ],
   "source": [
    "plot('Cylinders')"
   ],
   "metadata": {
    "collapsed": false,
    "pycharm": {
     "name": "#%%\n"
    }
   }
  },
  {
   "cell_type": "code",
   "execution_count": 13,
   "outputs": [
    {
     "name": "stdout",
     "output_type": "stream",
     "text": [
      "                     mean         std\n",
      "MPG             23.310510    7.728652\n",
      "Cylinders        5.477707    1.699788\n",
      "Displacement   195.318471  104.331589\n",
      "Horsepower     104.869427   38.096214\n",
      "Weight        2990.251592  843.898596\n",
      "Acceleration    15.559236    2.789230\n",
      "Model Year      75.898089    3.675642\n",
      "USA              0.624204    0.485101\n",
      "Europe           0.178344    0.383413\n",
      "Japan            0.197452    0.398712\n"
     ]
    }
   ],
   "source": [
    "print(train_dataset.describe().transpose()[['mean', 'std']])"
   ],
   "metadata": {
    "collapsed": false,
    "pycharm": {
     "name": "#%%\n"
    }
   }
  },
  {
   "cell_type": "markdown",
   "source": [
    "## Normalization with Keras Preprocessing Normalization Class\n",
    "Normalization works like:\n",
    "$normalized input feature value = (input - mean / std)$"
   ],
   "metadata": {
    "collapsed": false,
    "pycharm": {
     "name": "#%% md\n"
    }
   }
  },
  {
   "cell_type": "code",
   "execution_count": 14,
   "outputs": [
    {
     "name": "stdout",
     "output_type": "stream",
     "text": [
      "[[   5.478  195.318  104.869 2990.252   15.559   75.898    0.624    0.178\n",
      "     0.197]]\n"
     ]
    }
   ],
   "source": [
    "# Normalize\n",
    "normalizer = preprocessing.Normalization()\n",
    "normalizer.adapt(np.array(train_x))\n",
    "print(normalizer.mean.numpy())"
   ],
   "metadata": {
    "collapsed": false,
    "pycharm": {
     "name": "#%%\n"
    }
   }
  },
  {
   "cell_type": "code",
   "execution_count": 15,
   "outputs": [
    {
     "name": "stdout",
     "output_type": "stream",
     "text": [
      "Raw example:  [[   4.    90.    75.  2125.    14.5   74.     1.     0.     0. ]]\n",
      "Normalized example:  [[-0.871 -1.011 -0.785 -1.027 -0.38  -0.517  0.776 -0.466 -0.496]]\n"
     ]
    }
   ],
   "source": [
    "first = np.array(train_x[:1])\n",
    "print('Raw example: ', first)\n",
    "print('Normalized example: ', normalizer(first).numpy())"
   ],
   "metadata": {
    "collapsed": false,
    "pycharm": {
     "name": "#%%\n"
    }
   }
  },
  {
   "cell_type": "markdown",
   "source": [
    "## Regression\n",
    "$y = mx + b$"
   ],
   "metadata": {
    "collapsed": false,
    "pycharm": {
     "name": "#%% md\n"
    }
   }
  },
  {
   "cell_type": "code",
   "execution_count": 16,
   "outputs": [
    {
     "name": "stdout",
     "output_type": "stream",
     "text": [
      "(314,) (314, 9)\n"
     ]
    }
   ],
   "source": [
    "feature = 'Weight'\n",
    "single_feature = np.array(train_x[feature])\n",
    "print(single_feature.shape, train_x.shape)"
   ],
   "metadata": {
    "collapsed": false,
    "pycharm": {
     "name": "#%%\n"
    }
   }
  },
  {
   "cell_type": "code",
   "execution_count": 17,
   "outputs": [],
   "source": [
    "single_feature_normalizer = preprocessing.Normalization(input_shape=[1,], axis=None)\n",
    "single_feature_normalizer.adapt(single_feature)"
   ],
   "metadata": {
    "collapsed": false,
    "pycharm": {
     "name": "#%%\n"
    }
   }
  },
  {
   "cell_type": "code",
   "execution_count": 18,
   "outputs": [
    {
     "name": "stdout",
     "output_type": "stream",
     "text": [
      "Model: \"sequential\"\n",
      "_________________________________________________________________\n",
      " Layer (type)                Output Shape              Param #   \n",
      "=================================================================\n",
      " normalization_1 (Normalizat  (None, 1)                3         \n",
      " ion)                                                            \n",
      "                                                                 \n",
      " dense (Dense)               (None, 1)                 2         \n",
      "                                                                 \n",
      "=================================================================\n",
      "Total params: 5\n",
      "Trainable params: 2\n",
      "Non-trainable params: 3\n",
      "_________________________________________________________________\n"
     ]
    }
   ],
   "source": [
    "single_feature_model = keras.models.Sequential([\n",
    "    single_feature_normalizer,\n",
    "    layers.Dense(units=1) # Linear Model\n",
    "])\n",
    "\n",
    "single_feature_model.summary()"
   ],
   "metadata": {
    "collapsed": false,
    "pycharm": {
     "name": "#%%\n"
    }
   }
  },
  {
   "cell_type": "markdown",
   "source": [
    "### Loss Functions\n",
    "Mean Squared Error:\n",
    "Mean Absolute Error:"
   ],
   "metadata": {
    "collapsed": false,
    "pycharm": {
     "name": "#%% md\n"
    }
   }
  },
  {
   "cell_type": "code",
   "execution_count": 19,
   "outputs": [],
   "source": [
    "loss = keras.losses.MeanAbsoluteError()\n",
    "optimizer = keras.optimizers.Adam(learning_rate=0.1)\n",
    "\n",
    "single_feature_model.compile(optimizer, loss)"
   ],
   "metadata": {
    "collapsed": false,
    "pycharm": {
     "name": "#%%\n"
    }
   }
  },
  {
   "cell_type": "code",
   "execution_count": 20,
   "outputs": [
    {
     "name": "stdout",
     "output_type": "stream",
     "text": [
      "Epoch 1/100\n",
      "8/8 [==============================] - 0s 17ms/step - loss: 22.8903 - val_loss: 22.9151\n",
      "Epoch 2/100\n",
      "8/8 [==============================] - 0s 3ms/step - loss: 22.0667 - val_loss: 22.1140\n",
      "Epoch 3/100\n",
      "8/8 [==============================] - 0s 4ms/step - loss: 21.2670 - val_loss: 21.3141\n",
      "Epoch 4/100\n",
      "8/8 [==============================] - 0s 4ms/step - loss: 20.4717 - val_loss: 20.5128\n",
      "Epoch 5/100\n",
      "8/8 [==============================] - 0s 4ms/step - loss: 19.6726 - val_loss: 19.7155\n",
      "Epoch 6/100\n",
      "8/8 [==============================] - 0s 4ms/step - loss: 18.8664 - val_loss: 18.9154\n",
      "Epoch 7/100\n",
      "8/8 [==============================] - 0s 4ms/step - loss: 18.0667 - val_loss: 18.1149\n",
      "Epoch 8/100\n",
      "8/8 [==============================] - 0s 4ms/step - loss: 17.2672 - val_loss: 17.3158\n",
      "Epoch 9/100\n",
      "8/8 [==============================] - 0s 4ms/step - loss: 16.4668 - val_loss: 16.5166\n",
      "Epoch 10/100\n",
      "8/8 [==============================] - 0s 3ms/step - loss: 15.6660 - val_loss: 15.7165\n",
      "Epoch 11/100\n",
      "8/8 [==============================] - 0s 3ms/step - loss: 14.8700 - val_loss: 14.9151\n",
      "Epoch 12/100\n",
      "8/8 [==============================] - 0s 3ms/step - loss: 14.0724 - val_loss: 14.1220\n",
      "Epoch 13/100\n",
      "8/8 [==============================] - 0s 3ms/step - loss: 13.2953 - val_loss: 13.3403\n",
      "Epoch 14/100\n",
      "8/8 [==============================] - 0s 4ms/step - loss: 12.5173 - val_loss: 12.5747\n",
      "Epoch 15/100\n",
      "8/8 [==============================] - 0s 4ms/step - loss: 11.7435 - val_loss: 11.8160\n",
      "Epoch 16/100\n",
      "8/8 [==============================] - 0s 4ms/step - loss: 10.9655 - val_loss: 11.0606\n",
      "Epoch 17/100\n",
      "8/8 [==============================] - 0s 3ms/step - loss: 10.1850 - val_loss: 10.3099\n",
      "Epoch 18/100\n",
      "8/8 [==============================] - 0s 3ms/step - loss: 9.4292 - val_loss: 9.5633\n",
      "Epoch 19/100\n",
      "8/8 [==============================] - 0s 3ms/step - loss: 8.6670 - val_loss: 8.8457\n",
      "Epoch 20/100\n",
      "8/8 [==============================] - 0s 4ms/step - loss: 7.9231 - val_loss: 8.1376\n",
      "Epoch 21/100\n",
      "8/8 [==============================] - 0s 4ms/step - loss: 7.1965 - val_loss: 7.4402\n",
      "Epoch 22/100\n",
      "8/8 [==============================] - 0s 3ms/step - loss: 6.4970 - val_loss: 6.7552\n",
      "Epoch 23/100\n",
      "8/8 [==============================] - 0s 3ms/step - loss: 5.8392 - val_loss: 6.0990\n",
      "Epoch 24/100\n",
      "8/8 [==============================] - 0s 4ms/step - loss: 5.2529 - val_loss: 5.4989\n",
      "Epoch 25/100\n",
      "8/8 [==============================] - 0s 3ms/step - loss: 4.7163 - val_loss: 4.9686\n",
      "Epoch 26/100\n",
      "8/8 [==============================] - 0s 4ms/step - loss: 4.2935 - val_loss: 4.5407\n",
      "Epoch 27/100\n",
      "8/8 [==============================] - 0s 4ms/step - loss: 3.9384 - val_loss: 4.2276\n",
      "Epoch 28/100\n",
      "8/8 [==============================] - 0s 4ms/step - loss: 3.6723 - val_loss: 3.9807\n",
      "Epoch 29/100\n",
      "8/8 [==============================] - 0s 3ms/step - loss: 3.5101 - val_loss: 3.7958\n",
      "Epoch 30/100\n",
      "8/8 [==============================] - 0s 3ms/step - loss: 3.4233 - val_loss: 3.6652\n",
      "Epoch 31/100\n",
      "8/8 [==============================] - 0s 4ms/step - loss: 3.3665 - val_loss: 3.5663\n",
      "Epoch 32/100\n",
      "8/8 [==============================] - 0s 4ms/step - loss: 3.3315 - val_loss: 3.5137\n",
      "Epoch 33/100\n",
      "8/8 [==============================] - 0s 4ms/step - loss: 3.3159 - val_loss: 3.4697\n",
      "Epoch 34/100\n",
      "8/8 [==============================] - 0s 4ms/step - loss: 3.2992 - val_loss: 3.4444\n",
      "Epoch 35/100\n",
      "8/8 [==============================] - 0s 4ms/step - loss: 3.2912 - val_loss: 3.4283\n",
      "Epoch 36/100\n",
      "8/8 [==============================] - 0s 4ms/step - loss: 3.2833 - val_loss: 3.4228\n",
      "Epoch 37/100\n",
      "8/8 [==============================] - 0s 4ms/step - loss: 3.2836 - val_loss: 3.4174\n",
      "Epoch 38/100\n",
      "8/8 [==============================] - 0s 4ms/step - loss: 3.2846 - val_loss: 3.4124\n",
      "Epoch 39/100\n",
      "8/8 [==============================] - 0s 4ms/step - loss: 3.2801 - val_loss: 3.4069\n",
      "Epoch 40/100\n",
      "8/8 [==============================] - 0s 4ms/step - loss: 3.2824 - val_loss: 3.4058\n",
      "Epoch 41/100\n",
      "8/8 [==============================] - 0s 4ms/step - loss: 3.2785 - val_loss: 3.4046\n",
      "Epoch 42/100\n",
      "8/8 [==============================] - 0s 5ms/step - loss: 3.2785 - val_loss: 3.4031\n",
      "Epoch 43/100\n",
      "8/8 [==============================] - 0s 3ms/step - loss: 3.2831 - val_loss: 3.4052\n",
      "Epoch 44/100\n",
      "8/8 [==============================] - 0s 4ms/step - loss: 3.2765 - val_loss: 3.4041\n",
      "Epoch 45/100\n",
      "8/8 [==============================] - 0s 3ms/step - loss: 3.2793 - val_loss: 3.4003\n",
      "Epoch 46/100\n",
      "8/8 [==============================] - 0s 3ms/step - loss: 3.2783 - val_loss: 3.3984\n",
      "Epoch 47/100\n",
      "8/8 [==============================] - 0s 3ms/step - loss: 3.2789 - val_loss: 3.3976\n",
      "Epoch 48/100\n",
      "8/8 [==============================] - 0s 3ms/step - loss: 3.2804 - val_loss: 3.3960\n",
      "Epoch 49/100\n",
      "8/8 [==============================] - 0s 4ms/step - loss: 3.2785 - val_loss: 3.3946\n",
      "Epoch 50/100\n",
      "8/8 [==============================] - 0s 3ms/step - loss: 3.2802 - val_loss: 3.3937\n",
      "Epoch 51/100\n",
      "8/8 [==============================] - 0s 3ms/step - loss: 3.2815 - val_loss: 3.3996\n",
      "Epoch 52/100\n",
      "8/8 [==============================] - 0s 4ms/step - loss: 3.2802 - val_loss: 3.3956\n",
      "Epoch 53/100\n",
      "8/8 [==============================] - 0s 4ms/step - loss: 3.2779 - val_loss: 3.3931\n",
      "Epoch 54/100\n",
      "8/8 [==============================] - 0s 5ms/step - loss: 3.2775 - val_loss: 3.3914\n",
      "Epoch 55/100\n",
      "8/8 [==============================] - 0s 3ms/step - loss: 3.2770 - val_loss: 3.3903\n",
      "Epoch 56/100\n",
      "8/8 [==============================] - 0s 4ms/step - loss: 3.2782 - val_loss: 3.3912\n",
      "Epoch 57/100\n",
      "8/8 [==============================] - 0s 3ms/step - loss: 3.2797 - val_loss: 3.3944\n",
      "Epoch 58/100\n",
      "8/8 [==============================] - 0s 3ms/step - loss: 3.2796 - val_loss: 3.3909\n",
      "Epoch 59/100\n",
      "8/8 [==============================] - 0s 4ms/step - loss: 3.2816 - val_loss: 3.3885\n",
      "Epoch 60/100\n",
      "8/8 [==============================] - 0s 4ms/step - loss: 3.2789 - val_loss: 3.3863\n",
      "Epoch 61/100\n",
      "8/8 [==============================] - 0s 3ms/step - loss: 3.2785 - val_loss: 3.3865\n",
      "Epoch 62/100\n",
      "8/8 [==============================] - 0s 3ms/step - loss: 3.2782 - val_loss: 3.3865\n",
      "Epoch 63/100\n",
      "8/8 [==============================] - 0s 3ms/step - loss: 3.2792 - val_loss: 3.3882\n",
      "Epoch 64/100\n",
      "8/8 [==============================] - 0s 4ms/step - loss: 3.2776 - val_loss: 3.3872\n",
      "Epoch 65/100\n",
      "8/8 [==============================] - 0s 3ms/step - loss: 3.2766 - val_loss: 3.3860\n",
      "Epoch 66/100\n",
      "8/8 [==============================] - 0s 3ms/step - loss: 3.2789 - val_loss: 3.3849\n",
      "Epoch 67/100\n",
      "8/8 [==============================] - 0s 4ms/step - loss: 3.2783 - val_loss: 3.3878\n",
      "Epoch 68/100\n",
      "8/8 [==============================] - 0s 3ms/step - loss: 3.2797 - val_loss: 3.3913\n",
      "Epoch 69/100\n",
      "8/8 [==============================] - 0s 3ms/step - loss: 3.2787 - val_loss: 3.3881\n",
      "Epoch 70/100\n",
      "8/8 [==============================] - 0s 4ms/step - loss: 3.2768 - val_loss: 3.3886\n",
      "Epoch 71/100\n",
      "8/8 [==============================] - 0s 3ms/step - loss: 3.2775 - val_loss: 3.3871\n",
      "Epoch 72/100\n",
      "8/8 [==============================] - 0s 3ms/step - loss: 3.2797 - val_loss: 3.3847\n",
      "Epoch 73/100\n",
      "8/8 [==============================] - 0s 4ms/step - loss: 3.2776 - val_loss: 3.3857\n",
      "Epoch 74/100\n",
      "8/8 [==============================] - 0s 4ms/step - loss: 3.2777 - val_loss: 3.3850\n",
      "Epoch 75/100\n",
      "8/8 [==============================] - 0s 4ms/step - loss: 3.2827 - val_loss: 3.3906\n",
      "Epoch 76/100\n",
      "8/8 [==============================] - 0s 4ms/step - loss: 3.2805 - val_loss: 3.3852\n",
      "Epoch 77/100\n",
      "8/8 [==============================] - 0s 4ms/step - loss: 3.2852 - val_loss: 3.3853\n",
      "Epoch 78/100\n",
      "8/8 [==============================] - 0s 4ms/step - loss: 3.2853 - val_loss: 3.3804\n",
      "Epoch 79/100\n",
      "8/8 [==============================] - 0s 4ms/step - loss: 3.2776 - val_loss: 3.3818\n",
      "Epoch 80/100\n",
      "8/8 [==============================] - 0s 4ms/step - loss: 3.2822 - val_loss: 3.3908\n",
      "Epoch 81/100\n",
      "8/8 [==============================] - 0s 3ms/step - loss: 3.2777 - val_loss: 3.3879\n",
      "Epoch 82/100\n",
      "8/8 [==============================] - 0s 4ms/step - loss: 3.2765 - val_loss: 3.3862\n",
      "Epoch 83/100\n",
      "8/8 [==============================] - 0s 4ms/step - loss: 3.2871 - val_loss: 3.3869\n",
      "Epoch 84/100\n",
      "8/8 [==============================] - 0s 5ms/step - loss: 3.2814 - val_loss: 3.3815\n",
      "Epoch 85/100\n",
      "8/8 [==============================] - 0s 5ms/step - loss: 3.2877 - val_loss: 3.3853\n",
      "Epoch 86/100\n",
      "8/8 [==============================] - 0s 5ms/step - loss: 3.2780 - val_loss: 3.3871\n",
      "Epoch 87/100\n",
      "8/8 [==============================] - 0s 5ms/step - loss: 3.2758 - val_loss: 3.3874\n",
      "Epoch 88/100\n",
      "8/8 [==============================] - 0s 5ms/step - loss: 3.2770 - val_loss: 3.3871\n",
      "Epoch 89/100\n",
      "8/8 [==============================] - 0s 5ms/step - loss: 3.2791 - val_loss: 3.3865\n",
      "Epoch 90/100\n",
      "8/8 [==============================] - 0s 5ms/step - loss: 3.2779 - val_loss: 3.3857\n",
      "Epoch 91/100\n",
      "8/8 [==============================] - 0s 5ms/step - loss: 3.2763 - val_loss: 3.3880\n",
      "Epoch 92/100\n",
      "8/8 [==============================] - 0s 5ms/step - loss: 3.2779 - val_loss: 3.3846\n",
      "Epoch 93/100\n",
      "8/8 [==============================] - 0s 5ms/step - loss: 3.2836 - val_loss: 3.3877\n",
      "Epoch 94/100\n",
      "8/8 [==============================] - 0s 4ms/step - loss: 3.2787 - val_loss: 3.3840\n",
      "Epoch 95/100\n",
      "8/8 [==============================] - 0s 3ms/step - loss: 3.2774 - val_loss: 3.3870\n",
      "Epoch 96/100\n",
      "8/8 [==============================] - 0s 5ms/step - loss: 3.2805 - val_loss: 3.3840\n",
      "Epoch 97/100\n",
      "8/8 [==============================] - 0s 5ms/step - loss: 3.2768 - val_loss: 3.3865\n",
      "Epoch 98/100\n",
      "8/8 [==============================] - 0s 5ms/step - loss: 3.2805 - val_loss: 3.3889\n",
      "Epoch 99/100\n",
      "8/8 [==============================] - 0s 5ms/step - loss: 3.2790 - val_loss: 3.3883\n",
      "Epoch 100/100\n",
      "8/8 [==============================] - 0s 5ms/step - loss: 3.2780 - val_loss: 3.3870\n"
     ]
    }
   ],
   "source": [
    "history = single_feature_model.fit(train_x[feature], train_y, epochs=100, verbose=1, validation_split=0.2)"
   ],
   "metadata": {
    "collapsed": false,
    "pycharm": {
     "name": "#%%\n"
    }
   }
  },
  {
   "cell_type": "code",
   "execution_count": 21,
   "outputs": [
    {
     "data": {
      "text/plain": "<Figure size 432x288 with 1 Axes>",
      "image/png": "[encoded data removed]"
     },
     "metadata": {
      "needs_background": "light"
     },
     "output_type": "display_data"
    }
   ],
   "source": [
    "def plot_loss(history):\n",
    "    plt.plot(history.history['loss'], label='loss')\n",
    "    plt.plot(history.history['val_loss'], label='validation loss')\n",
    "    plt.ylim([0, 50])\n",
    "    plt.xlabel('Epochs')\n",
    "    plt.ylabel('Error | MPG')\n",
    "    plt.legend()\n",
    "    plt.grid(True)\n",
    "\n",
    "plot_loss(history)"
   ],
   "metadata": {
    "collapsed": false,
    "pycharm": {
     "name": "#%%\n"
    }
   }
  },
  {
   "cell_type": "code",
   "execution_count": 22,
   "outputs": [
    {
     "name": "stdout",
     "output_type": "stream",
     "text": [
      "3/3 [==============================] - 0s 2ms/step - loss: 3.1082\n"
     ]
    },
    {
     "data": {
      "text/plain": "3.1082496643066406"
     },
     "execution_count": 22,
     "metadata": {},
     "output_type": "execute_result"
    }
   ],
   "source": [
    "single_feature_model.evaluate(test_x[feature], test_y, verbose=1)"
   ],
   "metadata": {
    "collapsed": false,
    "pycharm": {
     "name": "#%%\n"
    }
   }
  },
  {
   "cell_type": "code",
   "execution_count": 23,
   "outputs": [
    {
     "name": "stdout",
     "output_type": "stream",
     "text": [
      "7/7 [==============================] - 0s 1ms/step\n"
     ]
    },
    {
     "data": {
      "text/plain": "<Figure size 720x576 with 1 Axes>",
      "image/png": "[encoded data removed]"
     },
     "metadata": {
      "needs_background": "light"
     },
     "output_type": "display_data"
    }
   ],
   "source": [
    "range_min = np.min(test_x[feature]) - 10\n",
    "range_max = np.max(test_x[feature]) + 10\n",
    "x = tf.linspace(range_min, range_max, 200)\n",
    "y = single_feature_model.predict(x)\n",
    "\n",
    "plot(feature, x, y)"
   ],
   "metadata": {
    "collapsed": false,
    "pycharm": {
     "name": "#%%\n"
    }
   }
  },
  {
   "cell_type": "code",
   "execution_count": 24,
   "outputs": [
    {
     "name": "stdout",
     "output_type": "stream",
     "text": [
      "Model: \"sequential_1\"\n",
      "_________________________________________________________________\n",
      " Layer (type)                Output Shape              Param #   \n",
      "=================================================================\n",
      " normalization_1 (Normalizat  (None, 1)                3         \n",
      " ion)                                                            \n",
      "                                                                 \n",
      " dense_1 (Dense)             (None, 64)                128       \n",
      "                                                                 \n",
      " dense_2 (Dense)             (None, 64)                4160      \n",
      "                                                                 \n",
      " dense_3 (Dense)             (None, 1)                 65        \n",
      "                                                                 \n",
      "=================================================================\n",
      "Total params: 4,356\n",
      "Trainable params: 4,353\n",
      "Non-trainable params: 3\n",
      "_________________________________________________________________\n"
     ]
    }
   ],
   "source": [
    "dnn_model = keras.Sequential([\n",
    "    single_feature_normalizer,\n",
    "    layers.Dense(64, activation='relu'),\n",
    "    layers.Dense(64, activation='relu'),\n",
    "    layers.Dense(1)\n",
    "])\n",
    "\n",
    "loss = keras.losses.MeanAbsoluteError()\n",
    "optimizer = keras.optimizers.Adam(learning_rate=0.001)\n",
    "\n",
    "dnn_model.compile(optimizer, loss)\n",
    "\n",
    "dnn_model.summary()"
   ],
   "metadata": {
    "collapsed": false,
    "pycharm": {
     "name": "#%%\n"
    }
   }
  },
  {
   "cell_type": "code",
   "execution_count": 25,
   "outputs": [
    {
     "name": "stdout",
     "output_type": "stream",
     "text": [
      "Epoch 1/100\n",
      "8/8 [==============================] - 0s 16ms/step - loss: 23.0910 - val_loss: 23.4585\n",
      "Epoch 2/100\n",
      "8/8 [==============================] - 0s 4ms/step - loss: 22.8226 - val_loss: 23.1651\n",
      "Epoch 3/100\n",
      "8/8 [==============================] - 0s 4ms/step - loss: 22.5157 - val_loss: 22.8272\n",
      "Epoch 4/100\n",
      "8/8 [==============================] - 0s 5ms/step - loss: 22.1489 - val_loss: 22.3941\n",
      "Epoch 5/100\n",
      "8/8 [==============================] - 0s 5ms/step - loss: 21.6749 - val_loss: 21.8331\n",
      "Epoch 6/100\n",
      "8/8 [==============================] - 0s 5ms/step - loss: 21.0684 - val_loss: 21.1050\n",
      "Epoch 7/100\n",
      "8/8 [==============================] - 0s 4ms/step - loss: 20.2738 - val_loss: 20.1696\n",
      "Epoch 8/100\n",
      "8/8 [==============================] - 0s 4ms/step - loss: 19.2477 - val_loss: 18.9970\n",
      "Epoch 9/100\n",
      "8/8 [==============================] - 0s 4ms/step - loss: 17.9838 - val_loss: 17.5362\n",
      "Epoch 10/100\n",
      "8/8 [==============================] - 0s 5ms/step - loss: 16.4020 - val_loss: 15.8433\n",
      "Epoch 11/100\n",
      "8/8 [==============================] - 0s 6ms/step - loss: 14.5957 - val_loss: 14.0085\n",
      "Epoch 12/100\n",
      "8/8 [==============================] - 0s 5ms/step - loss: 12.5683 - val_loss: 12.0513\n",
      "Epoch 13/100\n",
      "8/8 [==============================] - 0s 4ms/step - loss: 10.5188 - val_loss: 9.9827\n",
      "Epoch 14/100\n",
      "8/8 [==============================] - 0s 5ms/step - loss: 8.4054 - val_loss: 7.8447\n",
      "Epoch 15/100\n",
      "8/8 [==============================] - 0s 4ms/step - loss: 6.4270 - val_loss: 6.1026\n",
      "Epoch 16/100\n",
      "8/8 [==============================] - 0s 4ms/step - loss: 5.3406 - val_loss: 5.3066\n",
      "Epoch 17/100\n",
      "8/8 [==============================] - 0s 4ms/step - loss: 5.0734 - val_loss: 5.0436\n",
      "Epoch 18/100\n",
      "8/8 [==============================] - 0s 4ms/step - loss: 4.9171 - val_loss: 4.8546\n",
      "Epoch 19/100\n",
      "8/8 [==============================] - 0s 5ms/step - loss: 4.7210 - val_loss: 4.7007\n",
      "Epoch 20/100\n",
      "8/8 [==============================] - 0s 4ms/step - loss: 4.4918 - val_loss: 4.5781\n",
      "Epoch 21/100\n",
      "8/8 [==============================] - 0s 5ms/step - loss: 4.3208 - val_loss: 4.5009\n",
      "Epoch 22/100\n",
      "8/8 [==============================] - 0s 5ms/step - loss: 4.1645 - val_loss: 4.3621\n",
      "Epoch 23/100\n",
      "8/8 [==============================] - 0s 5ms/step - loss: 4.0169 - val_loss: 4.1739\n",
      "Epoch 24/100\n",
      "8/8 [==============================] - 0s 4ms/step - loss: 3.8959 - val_loss: 4.0112\n",
      "Epoch 25/100\n",
      "8/8 [==============================] - 0s 5ms/step - loss: 3.8017 - val_loss: 3.8979\n",
      "Epoch 26/100\n",
      "8/8 [==============================] - 0s 4ms/step - loss: 3.7138 - val_loss: 3.8088\n",
      "Epoch 27/100\n",
      "8/8 [==============================] - 0s 4ms/step - loss: 3.6412 - val_loss: 3.7327\n",
      "Epoch 28/100\n",
      "8/8 [==============================] - 0s 3ms/step - loss: 3.5833 - val_loss: 3.6846\n",
      "Epoch 29/100\n",
      "8/8 [==============================] - 0s 3ms/step - loss: 3.5293 - val_loss: 3.6167\n",
      "Epoch 30/100\n",
      "8/8 [==============================] - 0s 4ms/step - loss: 3.4926 - val_loss: 3.5357\n",
      "Epoch 31/100\n",
      "8/8 [==============================] - 0s 3ms/step - loss: 3.4423 - val_loss: 3.4849\n",
      "Epoch 32/100\n",
      "8/8 [==============================] - 0s 4ms/step - loss: 3.4000 - val_loss: 3.4493\n",
      "Epoch 33/100\n",
      "8/8 [==============================] - 0s 4ms/step - loss: 3.3768 - val_loss: 3.3964\n",
      "Epoch 34/100\n",
      "8/8 [==============================] - 0s 4ms/step - loss: 3.3471 - val_loss: 3.3706\n",
      "Epoch 35/100\n",
      "8/8 [==============================] - 0s 4ms/step - loss: 3.3189 - val_loss: 3.3482\n",
      "Epoch 36/100\n",
      "8/8 [==============================] - 0s 4ms/step - loss: 3.3040 - val_loss: 3.3350\n",
      "Epoch 37/100\n",
      "8/8 [==============================] - 0s 4ms/step - loss: 3.2765 - val_loss: 3.3097\n",
      "Epoch 38/100\n",
      "8/8 [==============================] - 0s 5ms/step - loss: 3.2574 - val_loss: 3.2867\n",
      "Epoch 39/100\n",
      "8/8 [==============================] - 0s 4ms/step - loss: 3.2409 - val_loss: 3.2775\n",
      "Epoch 40/100\n",
      "8/8 [==============================] - 0s 4ms/step - loss: 3.2302 - val_loss: 3.2633\n",
      "Epoch 41/100\n",
      "8/8 [==============================] - 0s 4ms/step - loss: 3.2193 - val_loss: 3.2594\n",
      "Epoch 42/100\n",
      "8/8 [==============================] - 0s 4ms/step - loss: 3.2050 - val_loss: 3.2349\n",
      "Epoch 43/100\n",
      "8/8 [==============================] - 0s 5ms/step - loss: 3.1939 - val_loss: 3.2311\n",
      "Epoch 44/100\n",
      "8/8 [==============================] - 0s 4ms/step - loss: 3.1839 - val_loss: 3.2221\n",
      "Epoch 45/100\n",
      "8/8 [==============================] - 0s 4ms/step - loss: 3.1755 - val_loss: 3.2160\n",
      "Epoch 46/100\n",
      "8/8 [==============================] - 0s 4ms/step - loss: 3.1711 - val_loss: 3.2033\n",
      "Epoch 47/100\n",
      "8/8 [==============================] - 0s 4ms/step - loss: 3.1652 - val_loss: 3.1936\n",
      "Epoch 48/100\n",
      "8/8 [==============================] - 0s 4ms/step - loss: 3.1581 - val_loss: 3.1989\n",
      "Epoch 49/100\n",
      "8/8 [==============================] - 0s 4ms/step - loss: 3.1560 - val_loss: 3.1781\n",
      "Epoch 50/100\n",
      "8/8 [==============================] - 0s 4ms/step - loss: 3.1497 - val_loss: 3.1717\n",
      "Epoch 51/100\n",
      "8/8 [==============================] - 0s 3ms/step - loss: 3.1539 - val_loss: 3.1848\n",
      "Epoch 52/100\n",
      "8/8 [==============================] - 0s 4ms/step - loss: 3.1488 - val_loss: 3.1599\n",
      "Epoch 53/100\n",
      "8/8 [==============================] - 0s 4ms/step - loss: 3.1353 - val_loss: 3.1555\n",
      "Epoch 54/100\n",
      "8/8 [==============================] - 0s 4ms/step - loss: 3.1357 - val_loss: 3.1537\n",
      "Epoch 55/100\n",
      "8/8 [==============================] - 0s 4ms/step - loss: 3.1337 - val_loss: 3.1402\n",
      "Epoch 56/100\n",
      "8/8 [==============================] - 0s 4ms/step - loss: 3.1356 - val_loss: 3.1379\n",
      "Epoch 57/100\n",
      "8/8 [==============================] - 0s 4ms/step - loss: 3.1282 - val_loss: 3.1325\n",
      "Epoch 58/100\n",
      "8/8 [==============================] - 0s 4ms/step - loss: 3.1383 - val_loss: 3.1516\n",
      "Epoch 59/100\n",
      "8/8 [==============================] - 0s 4ms/step - loss: 3.1367 - val_loss: 3.1219\n",
      "Epoch 60/100\n",
      "8/8 [==============================] - 0s 4ms/step - loss: 3.1251 - val_loss: 3.1259\n",
      "Epoch 61/100\n",
      "8/8 [==============================] - 0s 5ms/step - loss: 3.1321 - val_loss: 3.1251\n",
      "Epoch 62/100\n",
      "8/8 [==============================] - 0s 4ms/step - loss: 3.1381 - val_loss: 3.1131\n",
      "Epoch 63/100\n",
      "8/8 [==============================] - 0s 4ms/step - loss: 3.1224 - val_loss: 3.1197\n",
      "Epoch 64/100\n",
      "8/8 [==============================] - 0s 4ms/step - loss: 3.1221 - val_loss: 3.1245\n",
      "Epoch 65/100\n",
      "8/8 [==============================] - 0s 4ms/step - loss: 3.1150 - val_loss: 3.1080\n",
      "Epoch 66/100\n",
      "8/8 [==============================] - 0s 4ms/step - loss: 3.1273 - val_loss: 3.1024\n",
      "Epoch 67/100\n",
      "8/8 [==============================] - 0s 4ms/step - loss: 3.1240 - val_loss: 3.1093\n",
      "Epoch 68/100\n",
      "8/8 [==============================] - 0s 4ms/step - loss: 3.1207 - val_loss: 3.1394\n",
      "Epoch 69/100\n",
      "8/8 [==============================] - 0s 4ms/step - loss: 3.1227 - val_loss: 3.1019\n",
      "Epoch 70/100\n",
      "8/8 [==============================] - 0s 4ms/step - loss: 3.1149 - val_loss: 3.0989\n",
      "Epoch 71/100\n",
      "8/8 [==============================] - 0s 4ms/step - loss: 3.1202 - val_loss: 3.0973\n",
      "Epoch 72/100\n",
      "8/8 [==============================] - 0s 5ms/step - loss: 3.1104 - val_loss: 3.1066\n",
      "Epoch 73/100\n",
      "8/8 [==============================] - 0s 4ms/step - loss: 3.1119 - val_loss: 3.0955\n",
      "Epoch 74/100\n",
      "8/8 [==============================] - 0s 4ms/step - loss: 3.1123 - val_loss: 3.0990\n",
      "Epoch 75/100\n",
      "8/8 [==============================] - 0s 4ms/step - loss: 3.1128 - val_loss: 3.0954\n",
      "Epoch 76/100\n",
      "8/8 [==============================] - 0s 4ms/step - loss: 3.1064 - val_loss: 3.0906\n",
      "Epoch 77/100\n",
      "8/8 [==============================] - 0s 4ms/step - loss: 3.1262 - val_loss: 3.0999\n",
      "Epoch 78/100\n",
      "8/8 [==============================] - 0s 4ms/step - loss: 3.1098 - val_loss: 3.0819\n",
      "Epoch 79/100\n",
      "8/8 [==============================] - 0s 4ms/step - loss: 3.1054 - val_loss: 3.0863\n",
      "Epoch 80/100\n",
      "8/8 [==============================] - 0s 4ms/step - loss: 3.1060 - val_loss: 3.1023\n",
      "Epoch 81/100\n",
      "8/8 [==============================] - 0s 4ms/step - loss: 3.1058 - val_loss: 3.0817\n",
      "Epoch 82/100\n",
      "8/8 [==============================] - 0s 4ms/step - loss: 3.1038 - val_loss: 3.0790\n",
      "Epoch 83/100\n",
      "8/8 [==============================] - 0s 4ms/step - loss: 3.1181 - val_loss: 3.1245\n",
      "Epoch 84/100\n",
      "8/8 [==============================] - 0s 4ms/step - loss: 3.1192 - val_loss: 3.0706\n",
      "Epoch 85/100\n",
      "8/8 [==============================] - 0s 4ms/step - loss: 3.1006 - val_loss: 3.0780\n",
      "Epoch 86/100\n",
      "8/8 [==============================] - 0s 4ms/step - loss: 3.1046 - val_loss: 3.0872\n",
      "Epoch 87/100\n",
      "8/8 [==============================] - 0s 4ms/step - loss: 3.0952 - val_loss: 3.0713\n",
      "Epoch 88/100\n",
      "8/8 [==============================] - 0s 3ms/step - loss: 3.0976 - val_loss: 3.0682\n",
      "Epoch 89/100\n",
      "8/8 [==============================] - 0s 3ms/step - loss: 3.1011 - val_loss: 3.0754\n",
      "Epoch 90/100\n",
      "8/8 [==============================] - 0s 4ms/step - loss: 3.1065 - val_loss: 3.0872\n",
      "Epoch 91/100\n",
      "8/8 [==============================] - 0s 4ms/step - loss: 3.0907 - val_loss: 3.0634\n",
      "Epoch 92/100\n",
      "8/8 [==============================] - 0s 4ms/step - loss: 3.0971 - val_loss: 3.0616\n",
      "Epoch 93/100\n",
      "8/8 [==============================] - 0s 4ms/step - loss: 3.0917 - val_loss: 3.0858\n",
      "Epoch 94/100\n",
      "8/8 [==============================] - 0s 4ms/step - loss: 3.0955 - val_loss: 3.0656\n",
      "Epoch 95/100\n",
      "8/8 [==============================] - 0s 4ms/step - loss: 3.1006 - val_loss: 3.0589\n",
      "Epoch 96/100\n",
      "8/8 [==============================] - 0s 4ms/step - loss: 3.0955 - val_loss: 3.0657\n",
      "Epoch 97/100\n",
      "8/8 [==============================] - 0s 4ms/step - loss: 3.1022 - val_loss: 3.0897\n",
      "Epoch 98/100\n",
      "8/8 [==============================] - 0s 4ms/step - loss: 3.0917 - val_loss: 3.0602\n",
      "Epoch 99/100\n",
      "8/8 [==============================] - 0s 4ms/step - loss: 3.0897 - val_loss: 3.0634\n",
      "Epoch 100/100\n",
      "8/8 [==============================] - 0s 4ms/step - loss: 3.0869 - val_loss: 3.0662\n"
     ]
    }
   ],
   "source": [
    "history = dnn_model.fit(train_x[feature], train_y, validation_split=0.2, verbose=1, epochs=100)"
   ],
   "metadata": {
    "collapsed": false,
    "pycharm": {
     "name": "#%%\n"
    }
   }
  },
  {
   "cell_type": "code",
   "execution_count": 26,
   "outputs": [
    {
     "name": "stdout",
     "output_type": "stream",
     "text": [
      "3/3 [==============================] - 0s 2ms/step - loss: 2.7518\n"
     ]
    },
    {
     "data": {
      "text/plain": "2.751774787902832"
     },
     "execution_count": 26,
     "metadata": {},
     "output_type": "execute_result"
    }
   ],
   "source": [
    "dnn_model.evaluate(test_x[feature], test_y, verbose=1)"
   ],
   "metadata": {
    "collapsed": false,
    "pycharm": {
     "name": "#%%\n"
    }
   }
  },
  {
   "cell_type": "code",
   "execution_count": 27,
   "outputs": [
    {
     "name": "stdout",
     "output_type": "stream",
     "text": [
      "7/7 [==============================] - 0s 1ms/step\n"
     ]
    },
    {
     "data": {
      "text/plain": "<Figure size 720x576 with 1 Axes>",
      "image/png": "[encoded data removed]"
     },
     "metadata": {
      "needs_background": "light"
     },
     "output_type": "display_data"
    }
   ],
   "source": [
    "x = tf.linspace(range_min, range_max, 200)\n",
    "y = single_feature_model.predict(x)\n",
    "\n",
    "plot(feature, x, y)"
   ],
   "metadata": {
    "collapsed": false,
    "pycharm": {
     "name": "#%%\n"
    }
   }
  },
  {
   "cell_type": "code",
   "execution_count": 28,
   "outputs": [
    {
     "name": "stdout",
     "output_type": "stream",
     "text": [
      "Model: \"sequential_2\"\n",
      "_________________________________________________________________\n",
      " Layer (type)                Output Shape              Param #   \n",
      "=================================================================\n",
      " normalization (Normalizatio  (None, 9)                19        \n",
      " n)                                                              \n",
      "                                                                 \n",
      " dense_4 (Dense)             (None, 1)                 10        \n",
      "                                                                 \n",
      "=================================================================\n",
      "Total params: 29\n",
      "Trainable params: 10\n",
      "Non-trainable params: 19\n",
      "_________________________________________________________________\n"
     ]
    }
   ],
   "source": [
    "linear_model = keras.Sequential([\n",
    "    normalizer,\n",
    "    layers.Dense(1)\n",
    "])\n",
    "\n",
    "loss = keras.losses.MeanAbsoluteError()\n",
    "optimizer = keras.optimizers.Adam(learning_rate=0.1)\n",
    "\n",
    "linear_model.compile(optimizer, loss)\n",
    "\n",
    "linear_model.summary()"
   ],
   "metadata": {
    "collapsed": false,
    "pycharm": {
     "name": "#%%\n"
    }
   }
  },
  {
   "cell_type": "code",
   "execution_count": 29,
   "outputs": [
    {
     "name": "stdout",
     "output_type": "stream",
     "text": [
      "Epoch 1/100\n",
      "8/8 [==============================] - 0s 16ms/step - loss: 22.9405 - val_loss: 22.9865\n",
      "Epoch 2/100\n",
      "8/8 [==============================] - 0s 3ms/step - loss: 22.0587 - val_loss: 22.2663\n",
      "Epoch 3/100\n",
      "8/8 [==============================] - 0s 4ms/step - loss: 21.2476 - val_loss: 21.5680\n",
      "Epoch 4/100\n",
      "8/8 [==============================] - 0s 4ms/step - loss: 20.4104 - val_loss: 20.8296\n",
      "Epoch 5/100\n",
      "8/8 [==============================] - 0s 4ms/step - loss: 19.5951 - val_loss: 20.1234\n",
      "Epoch 6/100\n",
      "8/8 [==============================] - 0s 4ms/step - loss: 18.7660 - val_loss: 19.3886\n",
      "Epoch 7/100\n",
      "8/8 [==============================] - 0s 4ms/step - loss: 17.9454 - val_loss: 18.6585\n",
      "Epoch 8/100\n",
      "8/8 [==============================] - 0s 4ms/step - loss: 17.1352 - val_loss: 17.9379\n",
      "Epoch 9/100\n",
      "8/8 [==============================] - 0s 4ms/step - loss: 16.3358 - val_loss: 17.2309\n",
      "Epoch 10/100\n",
      "8/8 [==============================] - 0s 4ms/step - loss: 15.5156 - val_loss: 16.4915\n",
      "Epoch 11/100\n",
      "8/8 [==============================] - 0s 4ms/step - loss: 14.7166 - val_loss: 15.7883\n",
      "Epoch 12/100\n",
      "8/8 [==============================] - 0s 4ms/step - loss: 13.9006 - val_loss: 15.0539\n",
      "Epoch 13/100\n",
      "8/8 [==============================] - 0s 4ms/step - loss: 13.0895 - val_loss: 14.3281\n",
      "Epoch 14/100\n",
      "8/8 [==============================] - 0s 4ms/step - loss: 12.3090 - val_loss: 13.5596\n",
      "Epoch 15/100\n",
      "8/8 [==============================] - 0s 3ms/step - loss: 11.4848 - val_loss: 12.8613\n",
      "Epoch 16/100\n",
      "8/8 [==============================] - 0s 4ms/step - loss: 10.7021 - val_loss: 12.1623\n",
      "Epoch 17/100\n",
      "8/8 [==============================] - 0s 4ms/step - loss: 9.9014 - val_loss: 11.4538\n",
      "Epoch 18/100\n",
      "8/8 [==============================] - 0s 4ms/step - loss: 9.1267 - val_loss: 10.6223\n",
      "Epoch 19/100\n",
      "8/8 [==============================] - 0s 4ms/step - loss: 8.3715 - val_loss: 9.9132\n",
      "Epoch 20/100\n",
      "8/8 [==============================] - 0s 3ms/step - loss: 7.6327 - val_loss: 9.2141\n",
      "Epoch 21/100\n",
      "8/8 [==============================] - 0s 4ms/step - loss: 6.9805 - val_loss: 8.4670\n",
      "Epoch 22/100\n",
      "8/8 [==============================] - 0s 4ms/step - loss: 6.3405 - val_loss: 7.8481\n",
      "Epoch 23/100\n",
      "8/8 [==============================] - 0s 3ms/step - loss: 5.7944 - val_loss: 7.1822\n",
      "Epoch 24/100\n",
      "8/8 [==============================] - 0s 4ms/step - loss: 5.2619 - val_loss: 6.5959\n",
      "Epoch 25/100\n",
      "8/8 [==============================] - 0s 4ms/step - loss: 4.8304 - val_loss: 6.0245\n",
      "Epoch 26/100\n",
      "8/8 [==============================] - 0s 3ms/step - loss: 4.3667 - val_loss: 5.3019\n",
      "Epoch 27/100\n",
      "8/8 [==============================] - 0s 4ms/step - loss: 3.9108 - val_loss: 4.6891\n",
      "Epoch 28/100\n",
      "8/8 [==============================] - 0s 4ms/step - loss: 3.5151 - val_loss: 3.9522\n",
      "Epoch 29/100\n",
      "8/8 [==============================] - 0s 4ms/step - loss: 3.1191 - val_loss: 3.5318\n",
      "Epoch 30/100\n",
      "8/8 [==============================] - 0s 3ms/step - loss: 2.9027 - val_loss: 3.1240\n",
      "Epoch 31/100\n",
      "8/8 [==============================] - 0s 4ms/step - loss: 2.7864 - val_loss: 2.8765\n",
      "Epoch 32/100\n",
      "8/8 [==============================] - 0s 4ms/step - loss: 2.6796 - val_loss: 2.7665\n",
      "Epoch 33/100\n",
      "8/8 [==============================] - 0s 3ms/step - loss: 2.5945 - val_loss: 2.7428\n",
      "Epoch 34/100\n",
      "8/8 [==============================] - 0s 3ms/step - loss: 2.5713 - val_loss: 2.6722\n",
      "Epoch 35/100\n",
      "8/8 [==============================] - 0s 3ms/step - loss: 2.5631 - val_loss: 2.6657\n",
      "Epoch 36/100\n",
      "8/8 [==============================] - 0s 4ms/step - loss: 2.5178 - val_loss: 2.6020\n",
      "Epoch 37/100\n",
      "8/8 [==============================] - 0s 4ms/step - loss: 2.5145 - val_loss: 2.6044\n",
      "Epoch 38/100\n",
      "8/8 [==============================] - 0s 4ms/step - loss: 2.4991 - val_loss: 2.5526\n",
      "Epoch 39/100\n",
      "8/8 [==============================] - 0s 3ms/step - loss: 2.5051 - val_loss: 2.5522\n",
      "Epoch 40/100\n",
      "8/8 [==============================] - 0s 4ms/step - loss: 2.4851 - val_loss: 2.5170\n",
      "Epoch 41/100\n",
      "8/8 [==============================] - 0s 4ms/step - loss: 2.5082 - val_loss: 2.5343\n",
      "Epoch 42/100\n",
      "8/8 [==============================] - 0s 4ms/step - loss: 2.4984 - val_loss: 2.5551\n",
      "Epoch 43/100\n",
      "8/8 [==============================] - 0s 3ms/step - loss: 2.4950 - val_loss: 2.5090\n",
      "Epoch 44/100\n",
      "8/8 [==============================] - 0s 3ms/step - loss: 2.5036 - val_loss: 2.4964\n",
      "Epoch 45/100\n",
      "8/8 [==============================] - 0s 3ms/step - loss: 2.5265 - val_loss: 2.4906\n",
      "Epoch 46/100\n",
      "8/8 [==============================] - 0s 4ms/step - loss: 2.5031 - val_loss: 2.4957\n",
      "Epoch 47/100\n",
      "8/8 [==============================] - 0s 4ms/step - loss: 2.4992 - val_loss: 2.4979\n",
      "Epoch 48/100\n",
      "8/8 [==============================] - 0s 4ms/step - loss: 2.5673 - val_loss: 2.4904\n",
      "Epoch 49/100\n",
      "8/8 [==============================] - 0s 4ms/step - loss: 2.5000 - val_loss: 2.4821\n",
      "Epoch 50/100\n",
      "8/8 [==============================] - 0s 4ms/step - loss: 2.4680 - val_loss: 2.5756\n",
      "Epoch 51/100\n",
      "8/8 [==============================] - 0s 4ms/step - loss: 2.5033 - val_loss: 2.4811\n",
      "Epoch 52/100\n",
      "8/8 [==============================] - 0s 4ms/step - loss: 2.5257 - val_loss: 2.5476\n",
      "Epoch 53/100\n",
      "8/8 [==============================] - 0s 3ms/step - loss: 2.5021 - val_loss: 2.5111\n",
      "Epoch 54/100\n",
      "8/8 [==============================] - 0s 4ms/step - loss: 2.4973 - val_loss: 2.5122\n",
      "Epoch 55/100\n",
      "8/8 [==============================] - 0s 3ms/step - loss: 2.5158 - val_loss: 2.4703\n",
      "Epoch 56/100\n",
      "8/8 [==============================] - 0s 4ms/step - loss: 2.4689 - val_loss: 2.5353\n",
      "Epoch 57/100\n",
      "8/8 [==============================] - 0s 4ms/step - loss: 2.4723 - val_loss: 2.4549\n",
      "Epoch 58/100\n",
      "8/8 [==============================] - 0s 4ms/step - loss: 2.5003 - val_loss: 2.4996\n",
      "Epoch 59/100\n",
      "8/8 [==============================] - 0s 4ms/step - loss: 2.4811 - val_loss: 2.4601\n",
      "Epoch 60/100\n",
      "8/8 [==============================] - 0s 4ms/step - loss: 2.5339 - val_loss: 2.4798\n",
      "Epoch 61/100\n",
      "8/8 [==============================] - 0s 4ms/step - loss: 2.4809 - val_loss: 2.5229\n",
      "Epoch 62/100\n",
      "8/8 [==============================] - 0s 4ms/step - loss: 2.4768 - val_loss: 2.4910\n",
      "Epoch 63/100\n",
      "8/8 [==============================] - 0s 3ms/step - loss: 2.4808 - val_loss: 2.5079\n",
      "Epoch 64/100\n",
      "8/8 [==============================] - 0s 4ms/step - loss: 2.4697 - val_loss: 2.4783\n",
      "Epoch 65/100\n",
      "8/8 [==============================] - 0s 4ms/step - loss: 2.4742 - val_loss: 2.5376\n",
      "Epoch 66/100\n",
      "8/8 [==============================] - 0s 4ms/step - loss: 2.4919 - val_loss: 2.4668\n",
      "Epoch 67/100\n",
      "8/8 [==============================] - 0s 4ms/step - loss: 2.5248 - val_loss: 2.5145\n",
      "Epoch 68/100\n",
      "8/8 [==============================] - 0s 3ms/step - loss: 2.5327 - val_loss: 2.4684\n",
      "Epoch 69/100\n",
      "8/8 [==============================] - 0s 4ms/step - loss: 2.5032 - val_loss: 2.5394\n",
      "Epoch 70/100\n",
      "8/8 [==============================] - 0s 4ms/step - loss: 2.4969 - val_loss: 2.4650\n",
      "Epoch 71/100\n",
      "8/8 [==============================] - 0s 4ms/step - loss: 2.4793 - val_loss: 2.4975\n",
      "Epoch 72/100\n",
      "8/8 [==============================] - 0s 3ms/step - loss: 2.4925 - val_loss: 2.4783\n",
      "Epoch 73/100\n",
      "8/8 [==============================] - 0s 4ms/step - loss: 2.4958 - val_loss: 2.4800\n",
      "Epoch 74/100\n",
      "8/8 [==============================] - 0s 4ms/step - loss: 2.4755 - val_loss: 2.4918\n",
      "Epoch 75/100\n",
      "8/8 [==============================] - 0s 4ms/step - loss: 2.4840 - val_loss: 2.4859\n",
      "Epoch 76/100\n",
      "8/8 [==============================] - 0s 4ms/step - loss: 2.4646 - val_loss: 2.4701\n",
      "Epoch 77/100\n",
      "8/8 [==============================] - 0s 4ms/step - loss: 2.5210 - val_loss: 2.5149\n",
      "Epoch 78/100\n",
      "8/8 [==============================] - 0s 4ms/step - loss: 2.5031 - val_loss: 2.4618\n",
      "Epoch 79/100\n",
      "8/8 [==============================] - 0s 4ms/step - loss: 2.4931 - val_loss: 2.5191\n",
      "Epoch 80/100\n",
      "8/8 [==============================] - 0s 4ms/step - loss: 2.5002 - val_loss: 2.4726\n",
      "Epoch 81/100\n",
      "8/8 [==============================] - 0s 5ms/step - loss: 2.4695 - val_loss: 2.5314\n",
      "Epoch 82/100\n",
      "8/8 [==============================] - 0s 5ms/step - loss: 2.4929 - val_loss: 2.4561\n",
      "Epoch 83/100\n",
      "8/8 [==============================] - 0s 5ms/step - loss: 2.5130 - val_loss: 2.4700\n",
      "Epoch 84/100\n",
      "8/8 [==============================] - 0s 4ms/step - loss: 2.4757 - val_loss: 2.5080\n",
      "Epoch 85/100\n",
      "8/8 [==============================] - 0s 5ms/step - loss: 2.4862 - val_loss: 2.4990\n",
      "Epoch 86/100\n",
      "8/8 [==============================] - 0s 4ms/step - loss: 2.4699 - val_loss: 2.5288\n",
      "Epoch 87/100\n",
      "8/8 [==============================] - 0s 4ms/step - loss: 2.4658 - val_loss: 2.4800\n",
      "Epoch 88/100\n",
      "8/8 [==============================] - 0s 4ms/step - loss: 2.4996 - val_loss: 2.4716\n",
      "Epoch 89/100\n",
      "8/8 [==============================] - 0s 4ms/step - loss: 2.5174 - val_loss: 2.4838\n",
      "Epoch 90/100\n",
      "8/8 [==============================] - 0s 4ms/step - loss: 2.4890 - val_loss: 2.4515\n",
      "Epoch 91/100\n",
      "8/8 [==============================] - 0s 3ms/step - loss: 2.4840 - val_loss: 2.5298\n",
      "Epoch 92/100\n",
      "8/8 [==============================] - 0s 4ms/step - loss: 2.4994 - val_loss: 2.4965\n",
      "Epoch 93/100\n",
      "8/8 [==============================] - 0s 4ms/step - loss: 2.4712 - val_loss: 2.5167\n",
      "Epoch 94/100\n",
      "8/8 [==============================] - 0s 4ms/step - loss: 2.4849 - val_loss: 2.4634\n",
      "Epoch 95/100\n",
      "8/8 [==============================] - 0s 4ms/step - loss: 2.4822 - val_loss: 2.5320\n",
      "Epoch 96/100\n",
      "8/8 [==============================] - 0s 4ms/step - loss: 2.5137 - val_loss: 2.4463\n",
      "Epoch 97/100\n",
      "8/8 [==============================] - 0s 5ms/step - loss: 2.5012 - val_loss: 2.5147\n",
      "Epoch 98/100\n",
      "8/8 [==============================] - 0s 4ms/step - loss: 2.5497 - val_loss: 2.4602\n",
      "Epoch 99/100\n",
      "8/8 [==============================] - 0s 4ms/step - loss: 2.4899 - val_loss: 2.5291\n",
      "Epoch 100/100\n",
      "8/8 [==============================] - 0s 4ms/step - loss: 2.5399 - val_loss: 2.4555\n"
     ]
    }
   ],
   "source": [
    "history = linear_model.fit(train_x, train_y, epochs=100, verbose=1, validation_split=0.2)"
   ],
   "metadata": {
    "collapsed": false,
    "pycharm": {
     "name": "#%%\n"
    }
   }
  },
  {
   "cell_type": "code",
   "execution_count": 30,
   "outputs": [
    {
     "name": "stdout",
     "output_type": "stream",
     "text": [
      "3/3 [==============================] - 0s 2ms/step - loss: 2.4546\n"
     ]
    },
    {
     "data": {
      "text/plain": "2.454596519470215"
     },
     "execution_count": 30,
     "metadata": {},
     "output_type": "execute_result"
    }
   ],
   "source": [
    "linear_model.evaluate(test_x, test_y, verbose=1)"
   ],
   "metadata": {
    "collapsed": false,
    "pycharm": {
     "name": "#%%\n"
    }
   }
  },
  {
   "cell_type": "code",
   "execution_count": 31,
   "outputs": [
    {
     "name": "stdout",
     "output_type": "stream",
     "text": [
      "Model: \"sequential_3\"\n",
      "_________________________________________________________________\n",
      " Layer (type)                Output Shape              Param #   \n",
      "=================================================================\n",
      " normalization (Normalizatio  (None, 9)                19        \n",
      " n)                                                              \n",
      "                                                                 \n",
      " dense_5 (Dense)             (None, 64)                640       \n",
      "                                                                 \n",
      " dense_6 (Dense)             (None, 64)                4160      \n",
      "                                                                 \n",
      " dense_7 (Dense)             (None, 1)                 65        \n",
      "                                                                 \n",
      "=================================================================\n",
      "Total params: 4,884\n",
      "Trainable params: 4,865\n",
      "Non-trainable params: 19\n",
      "_________________________________________________________________\n"
     ]
    }
   ],
   "source": [
    "dnn_model = keras.Sequential([\n",
    "    normalizer,\n",
    "    layers.Dense(64, activation='relu'),\n",
    "    layers.Dense(64, activation='relu'),\n",
    "    layers.Dense(1)\n",
    "])\n",
    "\n",
    "loss = keras.losses.MeanAbsoluteError()\n",
    "optimizer = keras.optimizers.Adam(learning_rate=0.001)\n",
    "\n",
    "dnn_model.compile(optimizer, loss)\n",
    "\n",
    "dnn_model.summary()"
   ],
   "metadata": {
    "collapsed": false,
    "pycharm": {
     "name": "#%%\n"
    }
   }
  },
  {
   "cell_type": "code",
   "execution_count": 32,
   "outputs": [
    {
     "name": "stdout",
     "output_type": "stream",
     "text": [
      "Epoch 1/100\n",
      "8/8 [==============================] - 0s 16ms/step - loss: 23.0371 - val_loss: 23.1983\n",
      "Epoch 2/100\n",
      "8/8 [==============================] - 0s 4ms/step - loss: 22.4519 - val_loss: 22.5227\n",
      "Epoch 3/100\n",
      "8/8 [==============================] - 0s 5ms/step - loss: 21.7624 - val_loss: 21.6378\n",
      "Epoch 4/100\n",
      "8/8 [==============================] - 0s 5ms/step - loss: 20.8269 - val_loss: 20.4598\n",
      "Epoch 5/100\n",
      "8/8 [==============================] - 0s 4ms/step - loss: 19.5686 - val_loss: 18.8968\n",
      "Epoch 6/100\n",
      "8/8 [==============================] - 0s 4ms/step - loss: 17.9474 - val_loss: 16.8700\n",
      "Epoch 7/100\n",
      "8/8 [==============================] - 0s 5ms/step - loss: 15.9172 - val_loss: 14.7782\n",
      "Epoch 8/100\n",
      "8/8 [==============================] - 0s 5ms/step - loss: 13.8961 - val_loss: 12.8501\n",
      "Epoch 9/100\n",
      "8/8 [==============================] - 0s 4ms/step - loss: 11.7510 - val_loss: 10.5292\n",
      "Epoch 10/100\n",
      "8/8 [==============================] - 0s 4ms/step - loss: 9.3512 - val_loss: 7.6858\n",
      "Epoch 11/100\n",
      "8/8 [==============================] - 0s 4ms/step - loss: 6.8741 - val_loss: 5.8049\n",
      "Epoch 12/100\n",
      "8/8 [==============================] - 0s 4ms/step - loss: 6.1115 - val_loss: 5.3953\n",
      "Epoch 13/100\n",
      "8/8 [==============================] - 0s 4ms/step - loss: 5.4289 - val_loss: 4.7566\n",
      "Epoch 14/100\n",
      "8/8 [==============================] - 0s 4ms/step - loss: 4.5807 - val_loss: 4.2801\n",
      "Epoch 15/100\n",
      "8/8 [==============================] - 0s 4ms/step - loss: 3.9521 - val_loss: 3.9023\n",
      "Epoch 16/100\n",
      "8/8 [==============================] - 0s 6ms/step - loss: 3.5676 - val_loss: 3.6476\n",
      "Epoch 17/100\n",
      "8/8 [==============================] - 0s 4ms/step - loss: 3.3240 - val_loss: 3.4615\n",
      "Epoch 18/100\n",
      "8/8 [==============================] - 0s 4ms/step - loss: 3.0921 - val_loss: 3.2949\n",
      "Epoch 19/100\n",
      "8/8 [==============================] - 0s 4ms/step - loss: 2.9256 - val_loss: 3.1120\n",
      "Epoch 20/100\n",
      "8/8 [==============================] - 0s 4ms/step - loss: 2.8354 - val_loss: 2.9707\n",
      "Epoch 21/100\n",
      "8/8 [==============================] - 0s 4ms/step - loss: 2.7095 - val_loss: 2.8778\n",
      "Epoch 22/100\n",
      "8/8 [==============================] - 0s 4ms/step - loss: 2.6044 - val_loss: 2.8379\n",
      "Epoch 23/100\n",
      "8/8 [==============================] - 0s 4ms/step - loss: 2.4930 - val_loss: 2.6588\n",
      "Epoch 24/100\n",
      "8/8 [==============================] - 0s 4ms/step - loss: 2.4241 - val_loss: 2.6152\n",
      "Epoch 25/100\n",
      "8/8 [==============================] - 0s 4ms/step - loss: 2.3510 - val_loss: 2.5740\n",
      "Epoch 26/100\n",
      "8/8 [==============================] - 0s 4ms/step - loss: 2.2931 - val_loss: 2.5155\n",
      "Epoch 27/100\n",
      "8/8 [==============================] - 0s 4ms/step - loss: 2.2523 - val_loss: 2.4879\n",
      "Epoch 28/100\n",
      "8/8 [==============================] - 0s 4ms/step - loss: 2.2046 - val_loss: 2.3723\n",
      "Epoch 29/100\n",
      "8/8 [==============================] - 0s 4ms/step - loss: 2.1597 - val_loss: 2.3845\n",
      "Epoch 30/100\n",
      "8/8 [==============================] - 0s 4ms/step - loss: 2.1054 - val_loss: 2.3951\n",
      "Epoch 31/100\n",
      "8/8 [==============================] - 0s 3ms/step - loss: 2.0795 - val_loss: 2.3531\n",
      "Epoch 32/100\n",
      "8/8 [==============================] - 0s 6ms/step - loss: 2.0535 - val_loss: 2.3059\n",
      "Epoch 33/100\n",
      "8/8 [==============================] - 0s 5ms/step - loss: 2.0277 - val_loss: 2.3114\n",
      "Epoch 34/100\n",
      "8/8 [==============================] - 0s 4ms/step - loss: 2.0045 - val_loss: 2.2752\n",
      "Epoch 35/100\n",
      "8/8 [==============================] - 0s 3ms/step - loss: 1.9816 - val_loss: 2.2567\n",
      "Epoch 36/100\n",
      "8/8 [==============================] - 0s 6ms/step - loss: 1.9789 - val_loss: 2.2611\n",
      "Epoch 37/100\n",
      "8/8 [==============================] - 0s 4ms/step - loss: 1.9715 - val_loss: 2.1753\n",
      "Epoch 38/100\n",
      "8/8 [==============================] - 0s 4ms/step - loss: 1.9573 - val_loss: 2.2473\n",
      "Epoch 39/100\n",
      "8/8 [==============================] - 0s 4ms/step - loss: 1.9504 - val_loss: 2.2730\n",
      "Epoch 40/100\n",
      "8/8 [==============================] - 0s 4ms/step - loss: 1.9143 - val_loss: 2.1955\n",
      "Epoch 41/100\n",
      "8/8 [==============================] - 0s 4ms/step - loss: 1.9141 - val_loss: 2.2466\n",
      "Epoch 42/100\n",
      "8/8 [==============================] - 0s 4ms/step - loss: 1.9125 - val_loss: 2.2662\n",
      "Epoch 43/100\n",
      "8/8 [==============================] - 0s 4ms/step - loss: 1.9132 - val_loss: 2.1796\n",
      "Epoch 44/100\n",
      "8/8 [==============================] - 0s 4ms/step - loss: 1.8820 - val_loss: 2.2537\n",
      "Epoch 45/100\n",
      "8/8 [==============================] - 0s 4ms/step - loss: 1.8773 - val_loss: 2.1714\n",
      "Epoch 46/100\n",
      "8/8 [==============================] - 0s 4ms/step - loss: 1.8629 - val_loss: 2.2317\n",
      "Epoch 47/100\n",
      "8/8 [==============================] - 0s 4ms/step - loss: 1.8702 - val_loss: 2.1953\n",
      "Epoch 48/100\n",
      "8/8 [==============================] - 0s 5ms/step - loss: 1.8817 - val_loss: 2.1753\n",
      "Epoch 49/100\n",
      "8/8 [==============================] - 0s 4ms/step - loss: 1.8572 - val_loss: 2.2505\n",
      "Epoch 50/100\n",
      "8/8 [==============================] - 0s 4ms/step - loss: 1.8676 - val_loss: 2.1720\n",
      "Epoch 51/100\n",
      "8/8 [==============================] - 0s 4ms/step - loss: 1.8477 - val_loss: 2.2362\n",
      "Epoch 52/100\n",
      "8/8 [==============================] - 0s 4ms/step - loss: 1.8413 - val_loss: 2.1784\n",
      "Epoch 53/100\n",
      "8/8 [==============================] - 0s 4ms/step - loss: 1.8561 - val_loss: 2.2208\n",
      "Epoch 54/100\n",
      "8/8 [==============================] - 0s 4ms/step - loss: 1.8161 - val_loss: 2.1450\n",
      "Epoch 55/100\n",
      "8/8 [==============================] - 0s 4ms/step - loss: 1.8130 - val_loss: 2.2622\n",
      "Epoch 56/100\n",
      "8/8 [==============================] - 0s 4ms/step - loss: 1.8086 - val_loss: 2.1643\n",
      "Epoch 57/100\n",
      "8/8 [==============================] - 0s 4ms/step - loss: 1.7987 - val_loss: 2.1775\n",
      "Epoch 58/100\n",
      "8/8 [==============================] - 0s 4ms/step - loss: 1.8002 - val_loss: 2.2079\n",
      "Epoch 59/100\n",
      "8/8 [==============================] - 0s 5ms/step - loss: 1.7876 - val_loss: 2.1639\n",
      "Epoch 60/100\n",
      "8/8 [==============================] - 0s 4ms/step - loss: 1.7709 - val_loss: 2.2694\n",
      "Epoch 61/100\n",
      "8/8 [==============================] - 0s 4ms/step - loss: 1.7901 - val_loss: 2.1756\n",
      "Epoch 62/100\n",
      "8/8 [==============================] - 0s 5ms/step - loss: 1.7685 - val_loss: 2.2090\n",
      "Epoch 63/100\n",
      "8/8 [==============================] - 0s 4ms/step - loss: 1.7660 - val_loss: 2.1741\n",
      "Epoch 64/100\n",
      "8/8 [==============================] - 0s 3ms/step - loss: 1.7616 - val_loss: 2.2166\n",
      "Epoch 65/100\n",
      "8/8 [==============================] - 0s 5ms/step - loss: 1.7607 - val_loss: 2.1603\n",
      "Epoch 66/100\n",
      "8/8 [==============================] - 0s 4ms/step - loss: 1.7694 - val_loss: 2.2277\n",
      "Epoch 67/100\n",
      "8/8 [==============================] - 0s 4ms/step - loss: 1.7529 - val_loss: 2.1261\n",
      "Epoch 68/100\n",
      "8/8 [==============================] - 0s 4ms/step - loss: 1.7405 - val_loss: 2.2884\n",
      "Epoch 69/100\n",
      "8/8 [==============================] - 0s 4ms/step - loss: 1.7695 - val_loss: 2.1210\n",
      "Epoch 70/100\n",
      "8/8 [==============================] - 0s 4ms/step - loss: 1.7406 - val_loss: 2.2080\n",
      "Epoch 71/100\n",
      "8/8 [==============================] - 0s 4ms/step - loss: 1.7340 - val_loss: 2.2074\n",
      "Epoch 72/100\n",
      "8/8 [==============================] - 0s 4ms/step - loss: 1.7301 - val_loss: 2.1322\n",
      "Epoch 73/100\n",
      "8/8 [==============================] - 0s 4ms/step - loss: 1.7431 - val_loss: 2.2132\n",
      "Epoch 74/100\n",
      "8/8 [==============================] - 0s 4ms/step - loss: 1.7161 - val_loss: 2.1456\n",
      "Epoch 75/100\n",
      "8/8 [==============================] - 0s 4ms/step - loss: 1.7244 - val_loss: 2.2324\n",
      "Epoch 76/100\n",
      "8/8 [==============================] - 0s 4ms/step - loss: 1.7210 - val_loss: 2.1071\n",
      "Epoch 77/100\n",
      "8/8 [==============================] - 0s 5ms/step - loss: 1.7248 - val_loss: 2.2119\n",
      "Epoch 78/100\n",
      "8/8 [==============================] - 0s 4ms/step - loss: 1.7018 - val_loss: 2.1554\n",
      "Epoch 79/100\n",
      "8/8 [==============================] - 0s 4ms/step - loss: 1.6993 - val_loss: 2.1632\n",
      "Epoch 80/100\n",
      "8/8 [==============================] - 0s 4ms/step - loss: 1.7104 - val_loss: 2.2130\n",
      "Epoch 81/100\n",
      "8/8 [==============================] - 0s 4ms/step - loss: 1.7349 - val_loss: 2.1205\n",
      "Epoch 82/100\n",
      "8/8 [==============================] - 0s 4ms/step - loss: 1.6875 - val_loss: 2.2832\n",
      "Epoch 83/100\n",
      "8/8 [==============================] - 0s 5ms/step - loss: 1.6974 - val_loss: 2.1444\n",
      "Epoch 84/100\n",
      "8/8 [==============================] - 0s 4ms/step - loss: 1.6867 - val_loss: 2.2676\n",
      "Epoch 85/100\n",
      "8/8 [==============================] - 0s 4ms/step - loss: 1.6849 - val_loss: 2.1452\n",
      "Epoch 86/100\n",
      "8/8 [==============================] - 0s 4ms/step - loss: 1.6739 - val_loss: 2.1641\n",
      "Epoch 87/100\n",
      "8/8 [==============================] - 0s 4ms/step - loss: 1.6767 - val_loss: 2.1664\n",
      "Epoch 88/100\n",
      "8/8 [==============================] - 0s 4ms/step - loss: 1.6697 - val_loss: 2.1732\n",
      "Epoch 89/100\n",
      "8/8 [==============================] - 0s 4ms/step - loss: 1.6668 - val_loss: 2.1664\n",
      "Epoch 90/100\n",
      "8/8 [==============================] - 0s 4ms/step - loss: 1.6729 - val_loss: 2.1814\n",
      "Epoch 91/100\n",
      "8/8 [==============================] - 0s 4ms/step - loss: 1.6739 - val_loss: 2.1714\n",
      "Epoch 92/100\n",
      "8/8 [==============================] - 0s 4ms/step - loss: 1.6538 - val_loss: 2.1244\n",
      "Epoch 93/100\n",
      "8/8 [==============================] - 0s 4ms/step - loss: 1.6626 - val_loss: 2.1821\n",
      "Epoch 94/100\n",
      "8/8 [==============================] - 0s 4ms/step - loss: 1.6628 - val_loss: 2.1884\n",
      "Epoch 95/100\n",
      "8/8 [==============================] - 0s 4ms/step - loss: 1.6478 - val_loss: 2.1383\n",
      "Epoch 96/100\n",
      "8/8 [==============================] - 0s 4ms/step - loss: 1.6485 - val_loss: 2.1545\n",
      "Epoch 97/100\n",
      "8/8 [==============================] - 0s 3ms/step - loss: 1.6396 - val_loss: 2.1401\n",
      "Epoch 98/100\n",
      "8/8 [==============================] - 0s 5ms/step - loss: 1.6391 - val_loss: 2.2273\n",
      "Epoch 99/100\n",
      "8/8 [==============================] - 0s 4ms/step - loss: 1.6411 - val_loss: 2.1525\n",
      "Epoch 100/100\n",
      "8/8 [==============================] - 0s 4ms/step - loss: 1.6485 - val_loss: 2.1525\n"
     ]
    }
   ],
   "source": [
    "history = dnn_model.fit(train_x, train_y, validation_split=0.2, verbose=1, epochs=100)"
   ],
   "metadata": {
    "collapsed": false,
    "pycharm": {
     "name": "#%%\n"
    }
   }
  },
  {
   "cell_type": "code",
   "execution_count": 33,
   "outputs": [
    {
     "name": "stdout",
     "output_type": "stream",
     "text": [
      "3/3 [==============================] - 0s 2ms/step - loss: 1.6481\n"
     ]
    },
    {
     "data": {
      "text/plain": "1.6480777263641357"
     },
     "execution_count": 33,
     "metadata": {},
     "output_type": "execute_result"
    }
   ],
   "source": [
    "dnn_model.evaluate(test_x, test_y, verbose=1)"
   ],
   "metadata": {
    "collapsed": false,
    "pycharm": {
     "name": "#%%\n"
    }
   }
  }
 ],
 "metadata": {
  "kernelspec": {
   "display_name": "Python 3.9.6 ('venv': venv)",
   "language": "python",
   "name": "python3"
  },
  "language_info": {
   "codemirror_mode": {
    "name": "ipython",
    "version": 3
   },
   "file_extension": ".py",
   "mimetype": "text/x-python",
   "name": "python",
   "nbconvert_exporter": "python",
   "pygments_lexer": "ipython3",
   "version": "3.9.6"
  },
  "vscode": {
   "interpreter": {
    "hash": "715d9a84b2ee7143435454b8a4c19aa708e808d01acd105a49ec5fb1f6b82df9"
   }
  }
 },
 "nbformat": 4,
 "nbformat_minor": 0
}