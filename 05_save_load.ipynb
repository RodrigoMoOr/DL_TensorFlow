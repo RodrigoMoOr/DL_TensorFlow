{
 "cells": [
  {
   "cell_type": "markdown",
   "source": [],
   "metadata": {
    "collapsed": false,
    "pycharm": {
     "name": "#%% md\n"
    }
   }
  },
  {
   "cell_type": "markdown",
   "source": [
    "# Code From Lesson 02\n",
    "Run all these cells and move to the next section in this notebook to learn about saving and loading models."
   ],
   "metadata": {
    "collapsed": false,
    "pycharm": {
     "name": "#%% md\n"
    }
   }
  },
  {
   "cell_type": "code",
   "execution_count": null,
   "outputs": [],
   "source": [
    "import os\n",
    "\n",
    "os.environ[\"TF_CPP_MIN_LOG_LEVEL\"] = '2'\n",
    "\n",
    "import tensorflow as tf\n",
    "from tensorflow import keras\n",
    "import numpy as np\n",
    "import matplotlib.pyplot as plt"
   ],
   "metadata": {
    "collapsed": false,
    "pycharm": {
     "name": "#%%\n",
     "is_executing": true
    }
   }
  },
  {
   "cell_type": "code",
   "execution_count": null,
   "outputs": [],
   "source": [
    "mnist = keras.datasets.mnist\n",
    "\n",
    "(x_train, y_train), (x_test, y_test) = mnist.load_data()\n",
    "print(x_train, y_train, x_test, y_test)\n",
    "\n",
    "\n",
    "\n",
    "predictions = probability_model(x_test)\n",
    "pred0 = predictions[0]\n",
    "print(pred0)\n",
    "label0 = np.argmax(pred0)\n",
    "print(label0)\n",
    "predictions = model.predict(x_test)\n",
    "predictions = tf.nn.softmax(predictions)\n",
    "pred0 = predictions[0]\n",
    "print(pred0)\n",
    "\n",
    "label0 = np.argmax(pred0)\n",
    "print(label0)"
   ],
   "metadata": {
    "collapsed": false,
    "pycharm": {
     "name": "#%%\n"
    }
   }
  },
  {
   "cell_type": "code",
   "execution_count": null,
   "outputs": [],
   "source": [
    "# Normalize data\n",
    "x_train, x_test = x_train / 255.0, x_test / 255.0\n",
    "\n",
    "for i in range(6):\n",
    "    plt.subplot(2, 3, i + 1)\n",
    "    plt.imshow(x_train[i], cmap='gray')\n",
    "\n",
    "plt.show()"
   ],
   "metadata": {
    "collapsed": false,
    "pycharm": {
     "name": "#%%\n"
    }
   }
  },
  {
   "cell_type": "code",
   "execution_count": null,
   "outputs": [],
   "source": [
    "#model\n",
    "model = keras.models.Sequential([\n",
    "    keras.layers.Flatten(input_shape=(28, 28)),\n",
    "    keras.layers.Dense(128, activation='relu'),  # Fully connected layer\n",
    "    keras.layers.Dense(10),\n",
    "])\n",
    "\n",
    "model.build()\n",
    "\n",
    "model.summary()"
   ],
   "metadata": {
    "collapsed": false,
    "pycharm": {
     "name": "#%%\n"
    }
   }
  },
  {
   "cell_type": "code",
   "execution_count": null,
   "outputs": [],
   "source": [
    "loss = keras.losses.SparseCategoricalCrossentropy(from_logits=True)\n",
    "optimizer = keras.optimizers.Adam(learning_rate=0.001)\n",
    "metrics = [\"accuracy\"]\n",
    "\n",
    "model.compile(loss=loss, optimizer=optimizer, metrics=metrics)"
   ],
   "metadata": {
    "collapsed": false,
    "pycharm": {
     "name": "#%%\n"
    }
   }
  },
  {
   "cell_type": "code",
   "execution_count": null,
   "outputs": [],
   "source": [
    "batch_size = 128\n",
    "epochs = 10\n",
    "\n",
    "model.fit(x_train, y_train, batch_size, epochs, verbose=2)"
   ],
   "metadata": {
    "collapsed": false,
    "pycharm": {
     "name": "#%%\n"
    }
   }
  },
  {
   "cell_type": "code",
   "execution_count": null,
   "outputs": [],
   "source": [
    "model.evaluate(x_test, y_test, batch_size, verbose=2)"
   ],
   "metadata": {
    "collapsed": false,
    "pycharm": {
     "name": "#%%\n"
    }
   }
  },
  {
   "cell_type": "code",
   "execution_count": null,
   "outputs": [],
   "source": [
    "probability_model = keras.models.Sequential([\n",
    "    model,\n",
    "    keras.layers.Softmax()\n",
    "])\n",
    "\n",
    "predictions = probability_model(x_test)\n",
    "pred0 = predictions[0]\n",
    "print(pred0)"
   ],
   "metadata": {
    "collapsed": false,
    "pycharm": {
     "name": "#%%\n"
    }
   }
  },
  {
   "cell_type": "code",
   "execution_count": null,
   "outputs": [],
   "source": [
    "label0 = np.argmax(pred0)\n",
    "print(label0)"
   ],
   "metadata": {
    "collapsed": false,
    "pycharm": {
     "name": "#%%\n"
    }
   }
  },
  {
   "cell_type": "code",
   "execution_count": null,
   "outputs": [],
   "source": [
    "predictions = model.predict(x_test)\n",
    "predictions = tf.nn.softmax(predictions)\n",
    "pred0 = predictions[0]\n",
    "print(pred0)\n",
    "\n",
    "label0 = np.argmax(pred0)\n",
    "print(label0)"
   ],
   "metadata": {
    "collapsed": false,
    "pycharm": {
     "name": "#%%\n"
    }
   }
  },
  {
   "cell_type": "markdown",
   "source": [
    "# Saving and Loading Models\n",
    "\n",
    "### Possible Actions\n",
    "1. Saving Entire Trained Model\n",
    "2. Saving Trained Model Weights\n",
    "3. Save Model Architecture"
   ],
   "metadata": {
    "collapsed": false,
    "pycharm": {
     "name": "#%% md\n"
    }
   }
  },
  {
   "cell_type": "markdown",
   "source": [
    "## Saving Entire Model with model.save()\n",
    "2 possible ways to proceed. Use .h5 or TensorFlow's SavedModel format with no extension\n",
    "Example\n",
    "\n",
    "```\n",
    "model.save('super_nn.h5')\n",
    "model.save('super_nn')\n",
    "```"
   ],
   "metadata": {
    "collapsed": false,
    "pycharm": {
     "name": "#%% md\n"
    }
   }
  },
  {
   "cell_type": "code",
   "execution_count": null,
   "outputs": [],
   "source": [
    "model.save('nn.h5')"
   ],
   "metadata": {
    "collapsed": false,
    "pycharm": {
     "name": "#%%\n"
    }
   }
  },
  {
   "cell_type": "markdown",
   "source": [
    "## Load Saved Models with keras.models.load_model()\n",
    "The function `load_model()` from Keras library will allow you to load a model you have as a h5 file, and it will produce the exact same results as the original."
   ],
   "metadata": {
    "collapsed": false,
    "pycharm": {
     "name": "#%% md\n"
    }
   }
  },
  {
   "cell_type": "code",
   "execution_count": null,
   "outputs": [],
   "source": [
    "loaded_model = keras.models.load_model('nn.h5')"
   ],
   "metadata": {
    "collapsed": false,
    "pycharm": {
     "name": "#%%\n"
    }
   }
  },
  {
   "cell_type": "markdown",
   "source": [
    "## Save Model Weights with save_weights()\n",
    "To only save the weights of your trained model use the function `save_weights()` from Keras. The parameter to be passed is a string with .h5 file format"
   ],
   "metadata": {
    "collapsed": false,
    "pycharm": {
     "name": "#%% md\n"
    }
   }
  },
  {
   "cell_type": "code",
   "execution_count": null,
   "outputs": [],
   "source": [
    "model.save_weights('nn_weights.h5')"
   ],
   "metadata": {
    "collapsed": false,
    "pycharm": {
     "name": "#%%\n"
    }
   }
  },
  {
   "cell_type": "markdown",
   "source": [
    "\n",
    "## Load Trained Model Wights with model.load_weights()\n",
    "To load the saved weights you need an instance of a model and call the function `load_weights()` passing the name of the .h5 file that contains the weights.\n",
    "\n",
    "```\n",
    "model = keras.load_model('some_model.h5')\n",
    "model.load_weights('saved_weights.h5)\n",
    "```\n",
    "\n",
    "Now, why would you want to do something like that? Because you could combine a certain trained model with some better trained weights."
   ],
   "metadata": {
    "collapsed": false,
    "pycharm": {
     "name": "#%% md\n"
    }
   }
  },
  {
   "cell_type": "code",
   "execution_count": null,
   "outputs": [],
   "source": [
    "model.load_weights('nn_weights.h5')"
   ],
   "metadata": {
    "collapsed": false,
    "pycharm": {
     "name": "#%%\n"
    }
   }
  },
  {
   "cell_type": "markdown",
   "source": [
    "## Save Model Architecture to a JSON file\n",
    "You would want to do this if you come up with a particular architecture that you would like to reproduce when training other models.\n",
    "\n",
    "To do this call `.to_json()` on your model. This function (or method, as you prefer) will return a stringified JSON of your model architecture which you can store in a variable and finally persist to a file."
   ],
   "metadata": {
    "collapsed": false,
    "pycharm": {
     "name": "#%% md\n"
    }
   }
  },
  {
   "cell_type": "code",
   "execution_count": null,
   "outputs": [],
   "source": [
    "model_arch_string = model.to_string()\n",
    "\n",
    "with open(\"nn_model\", \"w\") as f:\n",
    "    f.write(model_arch_string)"
   ],
   "metadata": {
    "collapsed": false,
    "pycharm": {
     "name": "#%%\n"
    }
   }
  },
  {
   "cell_type": "markdown",
   "source": [
    "## Load Model Architecture from JSON file"
   ],
   "metadata": {
    "collapsed": false,
    "pycharm": {
     "name": "#%% md\n"
    }
   }
  },
  {
   "cell_type": "code",
   "execution_count": null,
   "outputs": [],
   "source": [
    "with open('nn_model', 'r') as f:\n",
    "    model_arch_json = f.read()\n",
    "\n",
    "new_model_from_json = keras.models.model_from_json(model_arch_json)"
   ],
   "metadata": {
    "collapsed": false,
    "pycharm": {
     "name": "#%%\n"
    }
   }
  }
 ],
 "metadata": {
  "kernelspec": {
   "display_name": "Python 3",
   "language": "python",
   "name": "python3"
  },
  "language_info": {
   "codemirror_mode": {
    "name": "ipython",
    "version": 2
   },
   "file_extension": ".py",
   "mimetype": "text/x-python",
   "name": "python",
   "nbconvert_exporter": "python",
   "pygments_lexer": "ipython2",
   "version": "2.7.6"
  }
 },
 "nbformat": 4,
 "nbformat_minor": 0
}